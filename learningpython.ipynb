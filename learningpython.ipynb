{
 "cells": [
  {
   "cell_type": "markdown",
   "metadata": {},
   "source": [
    "## Learning Python"
   ]
  },
  {
   "cell_type": "code",
   "execution_count": null,
   "metadata": {},
   "outputs": [
    {
     "ename": "",
     "evalue": "",
     "output_type": "error",
     "traceback": [
      "\u001b[1;31mRunning cells with '.env (Python 3.10.15)' requires the ipykernel package.\n",
      "\u001b[1;31mRun the following command to install 'ipykernel' into the Python environment. \n",
      "\u001b[1;31mCommand: 'conda install -n .env ipykernel --update-deps --force-reinstall'"
     ]
    }
   ],
   "source": [
    "total_sales = \"5000\"\n",
    "type(total_sales)\n",
    "total_sales = int(total_sales)\n",
    "type(total_sales)\n",
    "total_sales = float(total_sales)\n",
    "type(total_sales)"
   ]
  },
  {
   "cell_type": "code",
   "execution_count": null,
   "metadata": {},
   "outputs": [],
   "source": [
    "fruits_sales = \"1500\"\n",
    "vegetables_sales = \"2000\"\n",
    "grain_sales = \"1500\""
   ]
  },
  {
   "cell_type": "code",
   "execution_count": null,
   "metadata": {},
   "outputs": [],
   "source": [
    "# Convert string to integerts\n",
    "fruits_sales_int = int(fruits_sales)\n",
    "vegetables_sales_int = int(vegetables_sales)\n",
    "grain_sales_int = int(grain_sales)\n",
    "\n",
    "total_sales = fruits_sales_int + vegetables_sales_int + grain_sales_int\n",
    "\n",
    "print(f\"Total sales for the day: {total_sales}\")"
   ]
  },
  {
   "cell_type": "code",
   "execution_count": null,
   "metadata": {},
   "outputs": [],
   "source": [
    "product_details={\n",
    "    101:(\"Organic Apple\",1.5),\n",
    "    102:(\"Organic Orange\",1.2),\n",
    "    103:(\"Organic Banana\",0.8)\n",
    "}\n",
    "product_details[104]=(\"Organic avocado\",2.0)\n",
    "for id, info in product_details.items():\n",
    "  print(f\"Product Id :{id} - {info}\")"
   ]
  },
  {
   "cell_type": "code",
   "execution_count": null,
   "metadata": {},
   "outputs": [],
   "source": [
    "def calculate_order_total(prices, quantities):\n",
    "  total = 0\n",
    "  for price, quantity in zip (prices, quantities):\n",
    "    total += price * quantity\n",
    "  return total\n",
    "\n",
    "prices = [1.5, 2.4, 8.2]\n",
    "quantities = [3, 8 ,9]\n",
    "\n",
    "\n",
    "oder_total = calculate_order_total(prices, quantities)\n",
    "\n",
    "print(f\"price totals: {oder_total:.2f}\")"
   ]
  },
  {
   "cell_type": "code",
   "execution_count": null,
   "metadata": {},
   "outputs": [],
   "source": [
    "def apply_discount(total, discount_rate):\n",
    "  \"\"\"\n",
    "  description\n",
    "  \"\"\"\n",
    "  discount = total * (discount_rate) / 100\n",
    "  return total - discount\n",
    "\n",
    "discounted_total = apply_discount(oder_total, 10)\n",
    "print(f\"Discounted total: {discounted_total}\")"
   ]
  },
  {
   "cell_type": "markdown",
   "metadata": {},
   "source": []
  }
 ],
 "metadata": {
  "kernelspec": {
   "display_name": ".env",
   "language": "python",
   "name": "python3"
  },
  "language_info": {
   "name": "python",
   "version": "3.10.15"
  }
 },
 "nbformat": 4,
 "nbformat_minor": 2
}

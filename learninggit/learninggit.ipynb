{
 "cells": [
  {
   "cell_type": "markdown",
   "metadata": {},
   "source": [
    "### Learning Git"
   ]
  },
  {
   "cell_type": "markdown",
   "metadata": {},
   "source": [
    "#### Removing Files from Local Commit\n",
    "Incase you have committed a file which is against the git policy, becasue of which it is blocking you to push the content into the remote repository.\n",
    "\n",
    "**Step1: Remove the faulty file from current local commit**\n",
    "```bash\n",
    "git rm --cached <file_name>\n",
    "```\n",
    "\n",
    "**Step2: Ammend the commit**\n",
    "```bash\n",
    "git commit --amend -C HEAD\n",
    "```\n",
    "\n",
    "**Step3: Push the commit**\n",
    "```bash\n",
    "git push\n",
    "```\n"
   ]
  },
  {
   "cell_type": "markdown",
   "metadata": {},
   "source": [
    "#### Merge code into main branch\n",
    "You have changes in a feature branch, and you want to update it back into the main branch\n",
    "\n",
    "**Step1: Switch to main branch**\n",
    "```bash\n",
    "git checkout main\n",
    "```\n",
    "\n",
    "**Step2: Before merging, ensure your target branch is up to date with the remote**\n",
    "```bash\n",
    "git pull origin main\n",
    "```\n",
    "\n",
    "**Step3: Now, merge the branch you want to integrate**\n",
    "```bash\n",
    "git merge <feature-branch>\n",
    "```\n",
    "\n",
    "**Step4: Once the merge is successful, push the updated main branch to origin**\n",
    "```bash\n",
    "git push origin main\n",
    "```"
   ]
  }
 ],
 "metadata": {
  "language_info": {
   "name": "python"
  }
 },
 "nbformat": 4,
 "nbformat_minor": 2
}

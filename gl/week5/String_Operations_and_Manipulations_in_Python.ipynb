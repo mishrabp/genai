{
  "metadata": {
    "kernelspec": {
      "name": "python3",
      "display_name": "Python 3"
    },
    "language_info": {
      "name": "python",
      "version": "3.8.10",
      "mimetype": "text/x-python",
      "codemirror_mode": {
        "name": "ipython",
        "version": 3
      },
      "pygments_lexer": "ipython3",
      "nbconvert_exporter": "python",
      "file_extension": ".py"
    },
    "colab": {
      "provenance": [],
      "collapsed_sections": [
        "36883f8f",
        "0329375d",
        "8bd5572f",
        "d5f15b1a",
        "3a786683",
        "cbaa67e6",
        "07142b9e",
        "103b5a2b",
        "3ab86f3a",
        "4ce39420",
        "58e4d03c",
        "98f2afac",
        "2e4837f0",
        "e68ec595",
        "b1f07bca",
        "561ede75",
        "a39222d9",
        "0af368f7",
        "423ff5fe",
        "6670c089",
        "Yd78kYE9X-Nc",
        "40e0e876",
        "1eeb2f0b"
      ],
      "gpuType": "T4"
    },
    "accelerator": "GPU"
  },
  "nbformat_minor": 0,
  "nbformat": 4,
  "cells": [
    {
      "cell_type": "markdown",
      "source": [
        "# String Operations and Manipulation in Python"
      ],
      "metadata": {
        "id": "dfb6925a",
        "azdata_cell_guid": "73ce18ed-b151-443e-b16b-b49215b2cb74"
      }
    },
    {
      "cell_type": "markdown",
      "source": [
        "## 1.0 String Operations"
      ],
      "metadata": {
        "id": "36883f8f",
        "azdata_cell_guid": "66aeedf3-f441-4ab6-b984-1c43aedbb326"
      }
    },
    {
      "cell_type": "markdown",
      "source": [
        "String operations in Python refer to various actions and manipulations that you can perform on strings, which are sequences of characters. Python provides a wide range of built-in functions and methods for working with strings. Here are some common string operations in Python:\n",
        "\n",
        "**1.1** Concatenation  \n",
        "**1.2** String formatting  \n",
        "**1.3** String Indexing  \n",
        "**1.4** Slicing  \n",
        "**1.5** String length  \n",
        "**1.6** String methods  \n",
        "**1.7** String searching and Manipulation  \n",
        "**1.8** String Conversion"
      ],
      "metadata": {
        "id": "nLCsM9fb410t",
        "azdata_cell_guid": "39c328dd-f0d1-4001-96cf-6ee3580738e3"
      }
    },
    {
      "cell_type": "markdown",
      "source": [
        "### 1.1 Concatenation\n",
        "\n",
        "You can concatenate (combine) two or more strings using the + operator"
      ],
      "metadata": {
        "id": "0329375d",
        "azdata_cell_guid": "55e2437d-05bc-4d5a-9b12-ac3d814a33b0"
      }
    },
    {
      "cell_type": "code",
      "source": [
        "str1 = \"Hello\"\n",
        "str2 = \"World\"\n",
        "result = str1 + \" \" + str2\n",
        "\n",
        "print(result)"
      ],
      "metadata": {
        "colab": {
          "base_uri": "https://localhost:8080/"
        },
        "id": "012aa282",
        "outputId": "27d8d166-3b9f-4cb0-a77a-21b1b4209b84",
        "azdata_cell_guid": "4c4fc4f9-3ee7-47a1-89c2-794d0846a66d",
        "language": "python"
      },
      "outputs": [
        {
          "output_type": "stream",
          "name": "stdout",
          "text": [
            "Hello World\n"
          ]
        }
      ],
      "execution_count": 1
    },
    {
      "cell_type": "code",
      "source": [
        "str1 = \"1\"\n",
        "str2 = \"2\"\n",
        "result = str1 + \"-\" + str2\n",
        "\n",
        "print(result)"
      ],
      "metadata": {
        "id": "012c6f0c",
        "outputId": "466089cf-f4ed-410f-d9bd-9f3d17433eb8",
        "colab": {
          "base_uri": "https://localhost:8080/"
        },
        "azdata_cell_guid": "d798328f-5ed7-4025-b439-0e4bfcd7d0a5",
        "language": "python"
      },
      "outputs": [
        {
          "output_type": "stream",
          "name": "stdout",
          "text": [
            "1-2\n"
          ]
        }
      ],
      "execution_count": 2
    },
    {
      "cell_type": "code",
      "source": [
        "str1 = \"Hello\"\n",
        "str2 = \"100\"\n",
        "result = str1 + \" \" + str2\n",
        "\n",
        "print(result)"
      ],
      "metadata": {
        "id": "73a4324c",
        "outputId": "afb26381-7d3d-48b8-92ff-66e95a9b451d",
        "colab": {
          "base_uri": "https://localhost:8080/"
        },
        "azdata_cell_guid": "d07822de-d37c-4666-beee-825b691e5ea9",
        "language": "python"
      },
      "outputs": [
        {
          "output_type": "stream",
          "name": "stdout",
          "text": [
            "Hello 100\n"
          ]
        }
      ],
      "execution_count": 3
    },
    {
      "cell_type": "markdown",
      "source": [
        "### 1.2 String formatting\n",
        "You can format strings using the % operator for older-style string formatting"
      ],
      "metadata": {
        "id": "8bd5572f",
        "azdata_cell_guid": "766bf2bc-8b4f-4c62-b03a-2506b64ebed7"
      }
    },
    {
      "cell_type": "code",
      "source": [
        "# Example 1 (Using f-strings)\n",
        "name = \"Alice\"\n",
        "age = 30\n",
        "formatted_string = f\"My name is {name} and I am {age} years old.\"\n",
        "\n",
        "formatted_string"
      ],
      "metadata": {
        "id": "29c54346",
        "outputId": "f43b3707-be0d-42fc-e658-dc46966d8f41",
        "colab": {
          "base_uri": "https://localhost:8080/",
          "height": 36
        },
        "azdata_cell_guid": "86d967e0-328c-4ae8-9441-27c34c00bf4b",
        "language": "python"
      },
      "outputs": [
        {
          "output_type": "execute_result",
          "data": {
            "text/plain": [
              "'My name is Alice and I am 30 years old.'"
            ],
            "application/vnd.google.colaboratory.intrinsic+json": {
              "type": "string"
            }
          },
          "metadata": {},
          "execution_count": 4
        }
      ],
      "execution_count": 4
    },
    {
      "cell_type": "code",
      "source": [
        "# Example 2 (Using %-formatting)\n",
        "product = \"apple\"\n",
        "price = 0.75\n",
        "formatted_string = \"The %s costs $%.2f\" % (product, price)\n",
        "\n",
        "formatted_string"
      ],
      "metadata": {
        "id": "6d61dbd0",
        "outputId": "f88a1dd5-0ea9-4fbb-c95a-c9dcdb72ac34",
        "colab": {
          "base_uri": "https://localhost:8080/",
          "height": 36
        },
        "azdata_cell_guid": "8c71f6a3-43b2-4234-b51a-0b05e79041f9",
        "language": "python"
      },
      "outputs": [
        {
          "output_type": "execute_result",
          "data": {
            "text/plain": [
              "'The apple costs $0.75'"
            ],
            "application/vnd.google.colaboratory.intrinsic+json": {
              "type": "string"
            }
          },
          "metadata": {},
          "execution_count": 5
        }
      ],
      "execution_count": 5
    },
    {
      "cell_type": "code",
      "source": [
        "# Example 3 (Using str.format())\n",
        "city = \"New York\"\n",
        "population = 8_400_000\n",
        "formatted_string = \"The population of {} is {}.\".format(city, population)\n",
        "\n",
        "formatted_string"
      ],
      "metadata": {
        "id": "0b48eb0c",
        "outputId": "82c27cb3-7fd7-4cff-887c-ca57e1a98e69",
        "colab": {
          "base_uri": "https://localhost:8080/",
          "height": 36
        },
        "azdata_cell_guid": "734f3d35-b4d7-4d3b-b947-46ceed53cb55",
        "language": "python"
      },
      "outputs": [
        {
          "output_type": "execute_result",
          "data": {
            "text/plain": [
              "'The population of New York is 8400000.'"
            ],
            "application/vnd.google.colaboratory.intrinsic+json": {
              "type": "string"
            }
          },
          "metadata": {},
          "execution_count": 6
        }
      ],
      "execution_count": 6
    },
    {
      "cell_type": "code",
      "source": [
        "# Example 4 (Using positional arguments with str.format())\n",
        "item = \"book\"\n",
        "price = 15.99\n",
        "formatted_string = \"A {} costs ${:.2f}\".format(item, price)\n",
        "\n",
        "formatted_string"
      ],
      "metadata": {
        "id": "bf186090",
        "outputId": "9737062c-5612-49e2-d67b-4ab2dfa13454",
        "colab": {
          "base_uri": "https://localhost:8080/",
          "height": 36
        },
        "azdata_cell_guid": "b8963ce5-0a27-43e6-9e0b-ff84dd2d4b60",
        "language": "python"
      },
      "outputs": [
        {
          "output_type": "execute_result",
          "data": {
            "text/plain": [
              "'A book costs $15.99'"
            ],
            "application/vnd.google.colaboratory.intrinsic+json": {
              "type": "string"
            }
          },
          "metadata": {},
          "execution_count": 7
        }
      ],
      "execution_count": 7
    },
    {
      "cell_type": "code",
      "source": [
        "# Example 5 (Using named arguments with str.format())\n",
        "fruit = \"banana\"\n",
        "quantity = 5\n",
        "formatted_string = \"I bought {qty} {fruit}s.\".format(qty=quantity, fruit=fruit)\n",
        "\n",
        "formatted_string"
      ],
      "metadata": {
        "id": "e47e9109",
        "outputId": "0101035c-3796-4438-f14d-b9a8bc02c9ed",
        "colab": {
          "base_uri": "https://localhost:8080/",
          "height": 36
        },
        "azdata_cell_guid": "515c94cd-8aaf-4945-a370-8c9beb3c8dde",
        "language": "python"
      },
      "outputs": [
        {
          "output_type": "execute_result",
          "data": {
            "text/plain": [
              "'I bought 5 bananas.'"
            ],
            "application/vnd.google.colaboratory.intrinsic+json": {
              "type": "string"
            }
          },
          "metadata": {},
          "execution_count": 8
        }
      ],
      "execution_count": 8
    },
    {
      "cell_type": "markdown",
      "source": [
        "### 1.3 String Indexing\n",
        "\n",
        "Display the character from a string using the index value"
      ],
      "metadata": {
        "id": "d5f15b1a",
        "azdata_cell_guid": "1aeb0a79-bcd4-40f5-9a29-5e0615ed60d3"
      }
    },
    {
      "cell_type": "code",
      "source": [
        "my_string = \"Python\""
      ],
      "metadata": {
        "id": "aa7141a9",
        "azdata_cell_guid": "1c7ab0c6-aa46-4342-8684-80b7fd3eb401",
        "language": "python"
      },
      "outputs": [],
      "execution_count": 9
    },
    {
      "cell_type": "code",
      "source": [
        "first_char = my_string[0]\n",
        "print(first_char)"
      ],
      "metadata": {
        "id": "f5354541",
        "outputId": "b6527cd9-56fc-4b77-f9e7-478604673f33",
        "colab": {
          "base_uri": "https://localhost:8080/"
        },
        "azdata_cell_guid": "7a88bdc7-23cc-4bc3-ab24-19447b552d42",
        "language": "python"
      },
      "outputs": [
        {
          "output_type": "stream",
          "name": "stdout",
          "text": [
            "P\n"
          ]
        }
      ],
      "execution_count": 10
    },
    {
      "cell_type": "code",
      "source": [
        "last_char = my_string[-1]\n",
        "print(last_char)"
      ],
      "metadata": {
        "id": "6885b267",
        "outputId": "66199308-1f20-46b7-b622-e5a3e6bb6077",
        "colab": {
          "base_uri": "https://localhost:8080/"
        },
        "azdata_cell_guid": "2ac63a28-c40d-4b70-abfa-bcc9dc032075",
        "language": "python"
      },
      "outputs": [
        {
          "output_type": "stream",
          "name": "stdout",
          "text": [
            "n\n"
          ]
        }
      ],
      "execution_count": 11
    },
    {
      "cell_type": "code",
      "source": [
        "middle_char = my_string[2]\n",
        "print(middle_char)"
      ],
      "metadata": {
        "id": "0da74014",
        "outputId": "51abce1a-b5c2-4bd2-a353-4bdf71ddc1c2",
        "colab": {
          "base_uri": "https://localhost:8080/"
        },
        "azdata_cell_guid": "de47ba4a-80e7-475c-8308-c4d944bf5123",
        "language": "python"
      },
      "outputs": [
        {
          "output_type": "stream",
          "name": "stdout",
          "text": [
            "t\n"
          ]
        }
      ],
      "execution_count": 12
    },
    {
      "cell_type": "code",
      "source": [
        "second_char = my_string[1]\n",
        "print(second_char)"
      ],
      "metadata": {
        "id": "d77ac07c",
        "outputId": "cda283ac-3009-4f8c-9688-3337b28a5170",
        "colab": {
          "base_uri": "https://localhost:8080/"
        },
        "azdata_cell_guid": "4b0f340f-2200-48fa-8031-2cc3882137af",
        "language": "python"
      },
      "outputs": [
        {
          "output_type": "stream",
          "name": "stdout",
          "text": [
            "y\n"
          ]
        }
      ],
      "execution_count": 13
    },
    {
      "cell_type": "markdown",
      "source": [
        "### 1.4 Slicing\n",
        "Access the group of characters from a string using slicing"
      ],
      "metadata": {
        "id": "3a786683",
        "azdata_cell_guid": "f113192a-28d6-4acb-9fcc-fe15cd8582b4"
      }
    },
    {
      "cell_type": "code",
      "source": [
        "my_string = \"GreatLearning\"\n",
        "substring = my_string[2:5]\n",
        "# substring is 'tho'\n",
        "\n",
        "substring"
      ],
      "metadata": {
        "id": "b53a392b",
        "outputId": "d99c55a1-d215-452a-ee88-f66914ecb3db",
        "colab": {
          "base_uri": "https://localhost:8080/",
          "height": 36
        },
        "azdata_cell_guid": "c13eb90c-77f2-4e27-929e-f22477854c82",
        "language": "python"
      },
      "outputs": [
        {
          "output_type": "execute_result",
          "data": {
            "text/plain": [
              "'eat'"
            ],
            "application/vnd.google.colaboratory.intrinsic+json": {
              "type": "string"
            }
          },
          "metadata": {},
          "execution_count": 14
        }
      ],
      "execution_count": 14
    },
    {
      "cell_type": "code",
      "source": [
        "first_three_chars = my_string[:3]\n",
        "# first_three_chars is 'Pyt'\n",
        "\n",
        "first_three_chars"
      ],
      "metadata": {
        "id": "8055f8bc",
        "outputId": "7e4fd407-7021-44a3-ba19-49f6ab286a4d",
        "colab": {
          "base_uri": "https://localhost:8080/",
          "height": 36
        },
        "azdata_cell_guid": "2f151c8d-44ad-4d36-ae74-1a39680a885a",
        "language": "python"
      },
      "outputs": [
        {
          "output_type": "execute_result",
          "data": {
            "text/plain": [
              "'Gre'"
            ],
            "application/vnd.google.colaboratory.intrinsic+json": {
              "type": "string"
            }
          },
          "metadata": {},
          "execution_count": 15
        }
      ],
      "execution_count": 15
    },
    {
      "cell_type": "code",
      "source": [
        "last_three_chars = my_string[-3:]\n",
        "# last_three_chars is 'hon'\n",
        "\n",
        "last_three_chars"
      ],
      "metadata": {
        "id": "2b9740ba",
        "outputId": "9b604a7b-faa8-4df3-a299-21be3f010174",
        "colab": {
          "base_uri": "https://localhost:8080/",
          "height": 36
        },
        "azdata_cell_guid": "21fab100-4cd3-479d-a434-e6730ea6873d",
        "language": "python"
      },
      "outputs": [
        {
          "output_type": "execute_result",
          "data": {
            "text/plain": [
              "'ing'"
            ],
            "application/vnd.google.colaboratory.intrinsic+json": {
              "type": "string"
            }
          },
          "metadata": {},
          "execution_count": 16
        }
      ],
      "execution_count": 16
    },
    {
      "cell_type": "code",
      "source": [
        "every_other_char = my_string[::2]\n",
        "# every_other_char is 'Pto'\n",
        "\n",
        "every_other_char"
      ],
      "metadata": {
        "id": "bda3592c",
        "outputId": "61eec00e-335a-4487-e80a-b998301826b6",
        "colab": {
          "base_uri": "https://localhost:8080/",
          "height": 36
        },
        "azdata_cell_guid": "8d353e54-8608-4f78-9933-53d3f4564108",
        "language": "python"
      },
      "outputs": [
        {
          "output_type": "execute_result",
          "data": {
            "text/plain": [
              "'Geterig'"
            ],
            "application/vnd.google.colaboratory.intrinsic+json": {
              "type": "string"
            }
          },
          "metadata": {},
          "execution_count": 17
        }
      ],
      "execution_count": 17
    },
    {
      "cell_type": "code",
      "source": [
        "reversed_string = my_string[::-1]\n",
        "# reversed_string is 'nohtyP'\n",
        "\n",
        "reversed_string"
      ],
      "metadata": {
        "id": "be72fc26",
        "outputId": "26697f23-24f2-4b26-96ac-0d44b4aa47ac",
        "colab": {
          "base_uri": "https://localhost:8080/",
          "height": 36
        },
        "azdata_cell_guid": "ea6d180b-3be4-4a5d-b84c-77f90754348b",
        "language": "python"
      },
      "outputs": [
        {
          "output_type": "execute_result",
          "data": {
            "text/plain": [
              "'gninraeLtaerG'"
            ],
            "application/vnd.google.colaboratory.intrinsic+json": {
              "type": "string"
            }
          },
          "metadata": {},
          "execution_count": 18
        }
      ],
      "execution_count": 18
    },
    {
      "cell_type": "markdown",
      "source": [
        "### 1.5 String Length"
      ],
      "metadata": {
        "id": "cbaa67e6",
        "azdata_cell_guid": "0db420cf-838e-4ddd-bc18-aa1df68f155e"
      }
    },
    {
      "cell_type": "code",
      "source": [
        "my_string = \"Hello, World!\"\n",
        "length = len(my_string)\n",
        "\n",
        "length"
      ],
      "metadata": {
        "id": "b779d9df",
        "outputId": "8a9f4c9d-c5e0-4c9f-b3e9-cf1585121c44",
        "colab": {
          "base_uri": "https://localhost:8080/"
        },
        "azdata_cell_guid": "bdce5245-6fd2-42f0-b60d-176d4b5f10ce",
        "language": "python"
      },
      "outputs": [
        {
          "output_type": "execute_result",
          "data": {
            "text/plain": [
              "13"
            ]
          },
          "metadata": {},
          "execution_count": 19
        }
      ],
      "execution_count": 19
    },
    {
      "cell_type": "code",
      "source": [
        "empty_string = \"\"\n",
        "length = len(empty_string)\n",
        "\n",
        "length"
      ],
      "metadata": {
        "id": "32c56941",
        "outputId": "098644cf-811f-40e0-f41e-cfc21865af47",
        "colab": {
          "base_uri": "https://localhost:8080/"
        },
        "azdata_cell_guid": "069fb780-e7fe-4868-b85c-f5e7849a0305",
        "language": "python"
      },
      "outputs": [
        {
          "output_type": "execute_result",
          "data": {
            "text/plain": [
              "0"
            ]
          },
          "metadata": {},
          "execution_count": 20
        }
      ],
      "execution_count": 20
    },
    {
      "cell_type": "code",
      "source": [
        "long_string = \"This is a very long string with lots of characters.\"\n",
        "length = len(long_string)\n",
        "\n",
        "length"
      ],
      "metadata": {
        "id": "e518fbb3",
        "outputId": "c509f720-118f-42cc-cdf3-85d5aeba030e",
        "colab": {
          "base_uri": "https://localhost:8080/"
        },
        "azdata_cell_guid": "c636ae4f-72b0-4e0d-9d7b-46522f455244",
        "language": "python"
      },
      "outputs": [
        {
          "output_type": "execute_result",
          "data": {
            "text/plain": [
              "51"
            ]
          },
          "metadata": {},
          "execution_count": 21
        }
      ],
      "execution_count": 21
    },
    {
      "cell_type": "code",
      "source": [
        "unicode_string = \"Αυτή είναι μια συμβολοσειρά σε Unicode.\"\n",
        "length = len(unicode_string)\n",
        "\n",
        "length"
      ],
      "metadata": {
        "id": "0299f395",
        "outputId": "26b18551-1906-4f07-d26b-aa01eb9a4d7a",
        "colab": {
          "base_uri": "https://localhost:8080/"
        },
        "azdata_cell_guid": "1c446189-d07e-4c81-8c6a-4dd150c819a6",
        "language": "python"
      },
      "outputs": [
        {
          "output_type": "execute_result",
          "data": {
            "text/plain": [
              "39"
            ]
          },
          "metadata": {},
          "execution_count": 22
        }
      ],
      "execution_count": 22
    },
    {
      "cell_type": "code",
      "source": [
        "newline_string = \"Line 1\\nLine 2\\nLine 3\"\n",
        "length = len(newline_string)\n",
        "\n",
        "length"
      ],
      "metadata": {
        "id": "774db676",
        "outputId": "e2036ea1-c46d-4719-c574-94e3ce8ba07c",
        "colab": {
          "base_uri": "https://localhost:8080/"
        },
        "azdata_cell_guid": "c44f820a-68dc-4009-a603-23f49f24de00",
        "language": "python"
      },
      "outputs": [
        {
          "output_type": "execute_result",
          "data": {
            "text/plain": [
              "20"
            ]
          },
          "metadata": {},
          "execution_count": 23
        }
      ],
      "execution_count": 23
    },
    {
      "cell_type": "markdown",
      "source": [
        "### 1.6 String Methods"
      ],
      "metadata": {
        "id": "07142b9e",
        "azdata_cell_guid": "ec7075ed-0c5b-4547-9eab-05529547513d"
      }
    },
    {
      "cell_type": "code",
      "source": [
        "# Example 1 (str.upper())\n",
        "my_string = \"Hello, World!\"\n",
        "uppercase_string = my_string.upper()\n",
        "\n",
        "uppercase_string"
      ],
      "metadata": {
        "id": "bfa1decc",
        "outputId": "a1dfb653-5e5a-4ed9-bae6-3825b09acb56",
        "colab": {
          "base_uri": "https://localhost:8080/",
          "height": 36
        },
        "azdata_cell_guid": "7f8ca8ca-88cd-499d-9c95-2e59b39792a1",
        "language": "python"
      },
      "outputs": [
        {
          "output_type": "execute_result",
          "data": {
            "text/plain": [
              "'HELLO, WORLD!'"
            ],
            "application/vnd.google.colaboratory.intrinsic+json": {
              "type": "string"
            }
          },
          "metadata": {},
          "execution_count": 24
        }
      ],
      "execution_count": 24
    },
    {
      "cell_type": "code",
      "source": [
        "# Example 2 (str.lower())\n",
        "lowercase_string = my_string.lower()\n",
        "\n",
        "lowercase_string"
      ],
      "metadata": {
        "id": "bef052c5",
        "outputId": "d41a806a-c6e0-4ad8-faa4-64f77b95f9cf",
        "colab": {
          "base_uri": "https://localhost:8080/",
          "height": 36
        },
        "azdata_cell_guid": "43feb275-e085-47b3-84d1-c7a836f6c1ca",
        "language": "python"
      },
      "outputs": [
        {
          "output_type": "execute_result",
          "data": {
            "text/plain": [
              "'hello, world!'"
            ],
            "application/vnd.google.colaboratory.intrinsic+json": {
              "type": "string"
            }
          },
          "metadata": {},
          "execution_count": 25
        }
      ],
      "execution_count": 25
    },
    {
      "cell_type": "code",
      "source": [
        "# Example 3 (str.strip())\n",
        "my_string = \"   Python   \"\n",
        "stripped_string = my_string.strip()\n",
        "\n",
        "stripped_string"
      ],
      "metadata": {
        "id": "856b3409",
        "outputId": "d055fca5-e151-41a6-ffbc-da81371c0e66",
        "colab": {
          "base_uri": "https://localhost:8080/",
          "height": 36
        },
        "azdata_cell_guid": "87c94d6c-f9a3-4246-9eb4-4a5794978541",
        "language": "python"
      },
      "outputs": [
        {
          "output_type": "execute_result",
          "data": {
            "text/plain": [
              "'Python'"
            ],
            "application/vnd.google.colaboratory.intrinsic+json": {
              "type": "string"
            }
          },
          "metadata": {},
          "execution_count": 26
        }
      ],
      "execution_count": 26
    },
    {
      "cell_type": "code",
      "source": [
        "# Example 4 (str.replace())\n",
        "original_string = \"I like cats.\"\n",
        "new_string = original_string.replace(\"cats\", \"dogs\")\n",
        "\n",
        "new_string"
      ],
      "metadata": {
        "id": "bf2e9b1c",
        "outputId": "bd142849-3e7c-4a13-af76-8269e467b1b1",
        "colab": {
          "base_uri": "https://localhost:8080/",
          "height": 36
        },
        "azdata_cell_guid": "0b75761c-cbd0-460a-b572-a6af6c4fac59",
        "language": "python"
      },
      "outputs": [
        {
          "output_type": "execute_result",
          "data": {
            "text/plain": [
              "'I like dogs.'"
            ],
            "application/vnd.google.colaboratory.intrinsic+json": {
              "type": "string"
            }
          },
          "metadata": {},
          "execution_count": 27
        }
      ],
      "execution_count": 27
    },
    {
      "cell_type": "code",
      "source": [
        "# Example 5 (str.split())\n",
        "sentence = \"This is a sentence.\"\n",
        "words = sentence.split()\n",
        "\n",
        "words"
      ],
      "metadata": {
        "id": "15573652",
        "outputId": "a19ad6b7-6519-4402-c2ec-ecedc7923238",
        "colab": {
          "base_uri": "https://localhost:8080/"
        },
        "azdata_cell_guid": "c6b565a9-4d95-428f-828f-d34807a5bb8d",
        "language": "python"
      },
      "outputs": [
        {
          "output_type": "execute_result",
          "data": {
            "text/plain": [
              "['This', 'is', 'a', 'sentence.']"
            ]
          },
          "metadata": {},
          "execution_count": 28
        }
      ],
      "execution_count": 28
    },
    {
      "cell_type": "markdown",
      "source": [
        "### 1.7 String searching and Manipulation"
      ],
      "metadata": {
        "id": "103b5a2b",
        "azdata_cell_guid": "b22159f4-ba6d-4b91-a0d7-90ada41a917f"
      }
    },
    {
      "cell_type": "code",
      "source": [
        "# Example 1 (str.find())\n",
        "my_string = \"Hello, World!\"\n",
        "index = my_string.find(\"World\")\n",
        "\n",
        "index"
      ],
      "metadata": {
        "id": "77910e71",
        "outputId": "328e28c7-83bc-4f56-dc9e-99b2b3264a20",
        "colab": {
          "base_uri": "https://localhost:8080/"
        },
        "azdata_cell_guid": "694cf993-ad2e-4a54-9030-ea8d6bb23f31",
        "language": "python"
      },
      "outputs": [
        {
          "output_type": "execute_result",
          "data": {
            "text/plain": [
              "7"
            ]
          },
          "metadata": {},
          "execution_count": 29
        }
      ],
      "execution_count": 29
    },
    {
      "cell_type": "code",
      "source": [
        "# Example 2 (str.startswith())\n",
        "starts_with_hello = my_string.startswith(\"Hello\")\n",
        "\n",
        "starts_with_hello"
      ],
      "metadata": {
        "id": "4e3bd8e2",
        "outputId": "b3717878-4390-4c7d-d0f6-121dba2ad8ef",
        "colab": {
          "base_uri": "https://localhost:8080/"
        },
        "azdata_cell_guid": "aa50c509-7bfe-4f5f-88b3-bd6883ad0966",
        "language": "python"
      },
      "outputs": [
        {
          "output_type": "execute_result",
          "data": {
            "text/plain": [
              "True"
            ]
          },
          "metadata": {},
          "execution_count": 30
        }
      ],
      "execution_count": 30
    },
    {
      "cell_type": "code",
      "source": [
        "# Example 3 (str.endswith())\n",
        "ends_with_exclamation = my_string.endswith(\"#\")\n",
        "\n",
        "ends_with_exclamation"
      ],
      "metadata": {
        "id": "604131ca",
        "outputId": "8a921860-091d-4006-ddd7-b09a649f66de",
        "colab": {
          "base_uri": "https://localhost:8080/"
        },
        "azdata_cell_guid": "1265f5bb-3932-41bf-9ea6-6f2b1e393c3d",
        "language": "python"
      },
      "outputs": [
        {
          "output_type": "execute_result",
          "data": {
            "text/plain": [
              "False"
            ]
          },
          "metadata": {},
          "execution_count": 31
        }
      ],
      "execution_count": 31
    },
    {
      "cell_type": "code",
      "source": [
        "# Example 4 (str.capitalize())\n",
        "sentence = \"this is a sentence.\"\n",
        "capitalized_sentence = sentence.capitalize()\n",
        "\n",
        "capitalized_sentence"
      ],
      "metadata": {
        "id": "8c33b056",
        "outputId": "cb9258f4-a4f9-41bd-9fc4-f8d4e35ddb9a",
        "colab": {
          "base_uri": "https://localhost:8080/",
          "height": 36
        },
        "azdata_cell_guid": "55fc76a2-c02c-4942-ad14-cc0ccbc73df9",
        "language": "python"
      },
      "outputs": [
        {
          "output_type": "execute_result",
          "data": {
            "text/plain": [
              "'This is a sentence.'"
            ],
            "application/vnd.google.colaboratory.intrinsic+json": {
              "type": "string"
            }
          },
          "metadata": {},
          "execution_count": 32
        }
      ],
      "execution_count": 32
    },
    {
      "cell_type": "markdown",
      "source": [
        "### 1.8 String Conversion"
      ],
      "metadata": {
        "id": "3ab86f3a",
        "azdata_cell_guid": "731f26d5-ae49-4fd4-83cf-978e7aac8a87"
      }
    },
    {
      "cell_type": "code",
      "source": [
        "# Example 1 (int to str)\n",
        "number = 42\n",
        "str_number = str(number)\n",
        "\n",
        "str_number"
      ],
      "metadata": {
        "id": "b2177635",
        "outputId": "01bb160f-2754-43f0-b636-731359bd44c6",
        "colab": {
          "base_uri": "https://localhost:8080/",
          "height": 36
        },
        "azdata_cell_guid": "5e3775a3-5bb5-4764-8766-31d07f7f8d67",
        "language": "python"
      },
      "outputs": [
        {
          "output_type": "execute_result",
          "data": {
            "text/plain": [
              "'42'"
            ],
            "application/vnd.google.colaboratory.intrinsic+json": {
              "type": "string"
            }
          },
          "metadata": {},
          "execution_count": 33
        }
      ],
      "execution_count": 33
    },
    {
      "cell_type": "code",
      "source": [
        "# Example 2 (float to str)\n",
        "pi = 3.14159\n",
        "str_pi = str(pi)\n",
        "\n",
        "str_pi"
      ],
      "metadata": {
        "id": "642cf5fe",
        "outputId": "deb3c6c5-8149-493e-b2e2-f83b12dd38c7",
        "colab": {
          "base_uri": "https://localhost:8080/",
          "height": 36
        },
        "azdata_cell_guid": "6be648c5-5d60-4a91-b93e-a8bad040fab0",
        "language": "python"
      },
      "outputs": [
        {
          "output_type": "execute_result",
          "data": {
            "text/plain": [
              "'3.14159'"
            ],
            "application/vnd.google.colaboratory.intrinsic+json": {
              "type": "string"
            }
          },
          "metadata": {},
          "execution_count": 34
        }
      ],
      "execution_count": 34
    },
    {
      "cell_type": "code",
      "source": [
        "# Example 3 (str to int)\n",
        "str_num = \"123\"\n",
        "int_num = int(str_num)\n",
        "\n",
        "str_num"
      ],
      "metadata": {
        "id": "65ebeac7",
        "outputId": "40ebacdd-a340-45a8-c162-421f032631ef",
        "colab": {
          "base_uri": "https://localhost:8080/",
          "height": 36
        },
        "azdata_cell_guid": "a796eced-1173-44c1-aa38-cbe999a64099",
        "language": "python"
      },
      "outputs": [
        {
          "output_type": "execute_result",
          "data": {
            "text/plain": [
              "'123'"
            ],
            "application/vnd.google.colaboratory.intrinsic+json": {
              "type": "string"
            }
          },
          "metadata": {},
          "execution_count": 35
        }
      ],
      "execution_count": 35
    },
    {
      "cell_type": "code",
      "source": [
        "# Example 4 (str to float)\n",
        "str_float = \"3.14\"\n",
        "float_num = float(str_float)\n",
        "\n",
        "float_num"
      ],
      "metadata": {
        "id": "9c625b17",
        "outputId": "f2b74478-0750-44a2-81ea-61302bd951d1",
        "colab": {
          "base_uri": "https://localhost:8080/"
        },
        "azdata_cell_guid": "797d2786-2f3d-478c-b86a-0c64303d00e8",
        "language": "python"
      },
      "outputs": [
        {
          "output_type": "execute_result",
          "data": {
            "text/plain": [
              "3.14"
            ]
          },
          "metadata": {},
          "execution_count": 36
        }
      ],
      "execution_count": 36
    },
    {
      "cell_type": "code",
      "source": [
        "# Example 5 (ord())\n",
        "char = 'A'\n",
        "ascii_value = ord(char)\n",
        "\n",
        "ascii_value"
      ],
      "metadata": {
        "id": "a816cc11",
        "outputId": "b87743e9-3959-4990-97f4-a27e7fc5d0cf",
        "colab": {
          "base_uri": "https://localhost:8080/"
        },
        "azdata_cell_guid": "09424fab-3a50-46c6-8643-ff9ea6703b44",
        "language": "python"
      },
      "outputs": [
        {
          "output_type": "execute_result",
          "data": {
            "text/plain": [
              "65"
            ]
          },
          "metadata": {},
          "execution_count": 37
        }
      ],
      "execution_count": 37
    },
    {
      "cell_type": "markdown",
      "source": [
        "##  2.0 String Manipulation using Regular expressions (Regex)"
      ],
      "metadata": {
        "id": "4ce39420",
        "azdata_cell_guid": "4c26ddc7-5e99-4ef9-b140-c2fc19575ab6"
      }
    },
    {
      "cell_type": "markdown",
      "source": [
        "A regular expression, often referred to as \"regex\" or \"regexp,\" is a powerful and flexible pattern matching and text manipulation tool used in Python and many other programming languages. It is a sequence of characters that defines a search pattern. Regular expressions are commonly used for tasks like searching, extracting, validating, and manipulating text based on specific patterns.\n",
        "\n",
        "**Regex Functions**\n",
        "1. findall\n",
        "2. search\n",
        "3. split\n",
        "4. sub\n",
        "\n",
        "**Special sequances**\n",
        "\n",
        "\\d: Matches any digit (equivalent to [0-9]). \\\n",
        "\\D: Matches any non-digit character (equivalent to [^0-9]). \\\n",
        "\\w: Matches any word character (equivalent to [a-zA-Z0-9_]). \\\n",
        "\\W: Matches any non-word character (equivalent to [^a-zA-Z0-9_]). \\\n",
        "\\s: Matches any whitespace character (e.g., space, tab, newline). \\\n",
        "\\S: Matches any non-whitespace character. \\\n",
        "\\b: Matches a word boundary. It does not consume any characters, but it asserts that a word character is present at one end and a non-word character is present at the other end. \\\n",
        "\\B: Matches a non-word boundary."
      ],
      "metadata": {
        "id": "d3AkJ2HH4oIL",
        "azdata_cell_guid": "9b563b21-c097-4059-b86b-c7144b906f8d"
      }
    },
    {
      "cell_type": "code",
      "source": [
        "#Import a library\n",
        "import re"
      ],
      "metadata": {
        "id": "169ed82e",
        "azdata_cell_guid": "9783d02c-ca97-43c7-903d-0b72022c252c",
        "language": "python"
      },
      "outputs": [],
      "execution_count": 38
    },
    {
      "cell_type": "markdown",
      "source": [
        "### 2.1 Finding characters in a text\n",
        "Let's use the below sample text and see how we can extract different parts of this text using regular expressions"
      ],
      "metadata": {
        "id": "58e4d03c",
        "azdata_cell_guid": "cdf27b41-8272-45ca-b426-1fec7591a6c1"
      }
    },
    {
      "cell_type": "code",
      "source": [
        "sample_text = \"abcxyzABCXYZabc xyz%$...| 676-898 \""
      ],
      "metadata": {
        "id": "1d1469f7",
        "azdata_cell_guid": "f5671d95-1f7a-48a1-a4d5-295ab1026679",
        "language": "python"
      },
      "outputs": [],
      "execution_count": 39
    },
    {
      "cell_type": "markdown",
      "source": [
        "### 2.2 Finding Patterns\n",
        "\n",
        "Let's find all the occurances of 'abc' in the above text"
      ],
      "metadata": {
        "id": "98f2afac",
        "azdata_cell_guid": "572f492e-eb02-4b00-a2c6-1a40aaeeb06f"
      }
    },
    {
      "cell_type": "code",
      "source": [
        "pattern = re.compile(r'abc') # this is used to store the pattern you want to search\n",
        "matches = pattern.findall(sample_text) # this is used to find all instanaces in a text that matches the pattern\n",
        "print(matches) # the result is in the form of a python list"
      ],
      "metadata": {
        "id": "f6f79fac",
        "outputId": "22600297-f508-46b9-d268-cb4277bedc9f",
        "colab": {
          "base_uri": "https://localhost:8080/"
        },
        "azdata_cell_guid": "2747980a-cea7-47c3-b411-34640288e306",
        "language": "python"
      },
      "outputs": [
        {
          "output_type": "stream",
          "name": "stdout",
          "text": [
            "['abc', 'abc']\n"
          ]
        }
      ],
      "execution_count": 40
    },
    {
      "cell_type": "markdown",
      "source": [
        "<b>Note:</b> The pattern which is compiled is case-sensitive. So by searching for 'abc', you cannot find 'ABC'"
      ],
      "metadata": {
        "id": "9887f5f0",
        "azdata_cell_guid": "99ed4246-016a-40e7-bc83-98db773fe8aa"
      }
    },
    {
      "cell_type": "markdown",
      "source": [
        "### 2.3 Match everything\n",
        "The dot character returns all the distinct characters in a text"
      ],
      "metadata": {
        "id": "2e4837f0",
        "azdata_cell_guid": "3ff6e585-0613-456f-9cf5-14bc0cd02e13"
      }
    },
    {
      "cell_type": "code",
      "source": [
        "pattern = re.compile(r'.')\n",
        "matches = pattern.findall(sample_text)\n",
        "print(matches)"
      ],
      "metadata": {
        "id": "4b0e1eee",
        "outputId": "9d63df8c-f204-435d-f32a-f42265ac436e",
        "colab": {
          "base_uri": "https://localhost:8080/"
        },
        "azdata_cell_guid": "1f1530dd-cf4c-4a03-9cea-2897a3bb7a6c",
        "language": "python"
      },
      "outputs": [
        {
          "output_type": "stream",
          "name": "stdout",
          "text": [
            "['a', 'b', 'c', 'x', 'y', 'z', 'A', 'B', 'C', 'X', 'Y', 'Z', 'a', 'b', 'c', ' ', 'x', 'y', 'z', '%', '$', '.', '.', '.', '|', ' ', '6', '7', '6', '-', '8', '9', '8', ' ']\n"
          ]
        }
      ],
      "execution_count": 41
    },
    {
      "cell_type": "markdown",
      "source": [
        "### 2.4 Match all numbers\n",
        "The identifier <b>\\d</b> finds all digits - numbers from 0 to 9"
      ],
      "metadata": {
        "id": "e68ec595",
        "azdata_cell_guid": "54d6a212-d756-4275-8a30-e93404699745"
      }
    },
    {
      "cell_type": "code",
      "source": [
        "pattern = re.compile(r'\\d')\n",
        "matches = pattern.findall(sample_text)\n",
        "print(matches)"
      ],
      "metadata": {
        "id": "fd4787d3",
        "outputId": "33a9600e-2bc0-456d-f074-07141505cde2",
        "colab": {
          "base_uri": "https://localhost:8080/"
        },
        "azdata_cell_guid": "1d478379-cf90-4c0a-947d-853ec7f39c16",
        "language": "python"
      },
      "outputs": [
        {
          "output_type": "stream",
          "name": "stdout",
          "text": [
            "['6', '7', '6', '8', '9', '8']\n"
          ]
        }
      ],
      "execution_count": 42
    },
    {
      "cell_type": "markdown",
      "source": [
        "### 2.5 Match all which are NOT numbers\n",
        "The identifier <b>\\D</b> finds all characters which are not digits"
      ],
      "metadata": {
        "id": "b1f07bca",
        "azdata_cell_guid": "d4598217-295a-4897-9311-9407c3f0633e"
      }
    },
    {
      "cell_type": "code",
      "source": [
        "pattern = re.compile(r'\\D')\n",
        "matches = pattern.findall(sample_text)\n",
        "print(matches)"
      ],
      "metadata": {
        "id": "04355a00",
        "outputId": "01730bfc-9292-48ff-c77e-fa046dd750b9",
        "colab": {
          "base_uri": "https://localhost:8080/"
        },
        "azdata_cell_guid": "7e54e8f4-74c0-4358-ad1f-cf042d6fc70a",
        "language": "python"
      },
      "outputs": [
        {
          "output_type": "stream",
          "name": "stdout",
          "text": [
            "['a', 'b', 'c', 'x', 'y', 'z', 'A', 'B', 'C', 'X', 'Y', 'Z', 'a', 'b', 'c', ' ', 'x', 'y', 'z', '%', '$', '.', '.', '.', '|', ' ', '-', ' ']\n"
          ]
        }
      ],
      "execution_count": 43
    },
    {
      "cell_type": "markdown",
      "source": [
        "### 2.6 Match all alphabets\n",
        "The identifier <b>\\w</b> finds all alphabets - a to z, A to Z and underscore"
      ],
      "metadata": {
        "id": "561ede75",
        "azdata_cell_guid": "b9e3b922-f9d9-48cb-b1fa-f089a52d5e9c"
      }
    },
    {
      "cell_type": "code",
      "source": [
        "pattern = re.compile(r'\\w')\n",
        "matches = pattern.findall(sample_text)\n",
        "print(matches)"
      ],
      "metadata": {
        "id": "cb57e47d",
        "outputId": "986aa47e-160f-4301-b85a-034a3950128f",
        "colab": {
          "base_uri": "https://localhost:8080/"
        },
        "azdata_cell_guid": "c0f65278-106d-48fe-ac44-e81245437e09",
        "language": "python"
      },
      "outputs": [
        {
          "output_type": "stream",
          "name": "stdout",
          "text": [
            "['a', 'b', 'c', 'x', 'y', 'z', 'A', 'B', 'C', 'X', 'Y', 'Z', 'a', 'b', 'c', 'x', 'y', 'z', '6', '7', '6', '8', '9', '8']\n"
          ]
        }
      ],
      "execution_count": 44
    },
    {
      "cell_type": "markdown",
      "source": [
        "### 2.7 Match all which are NOT alphabets\n",
        "The identifier <b>\\W</b> finds all characters which are not alphabets or underscore`"
      ],
      "metadata": {
        "id": "a39222d9",
        "azdata_cell_guid": "394eb82d-1f32-45bd-8a75-6d0446579002"
      }
    },
    {
      "cell_type": "code",
      "source": [
        "pattern = re.compile(r'\\W')\n",
        "matches = pattern.findall(sample_text)\n",
        "print(matches)"
      ],
      "metadata": {
        "id": "f081413a",
        "outputId": "58dc0512-069a-46fd-da9d-38000e53894c",
        "colab": {
          "base_uri": "https://localhost:8080/"
        },
        "azdata_cell_guid": "2ed42703-7bb3-4626-bebf-2759e301c09a",
        "language": "python"
      },
      "outputs": [
        {
          "output_type": "stream",
          "name": "stdout",
          "text": [
            "[' ', '%', '$', '.', '.', '.', '|', ' ', '-', ' ']\n"
          ]
        }
      ],
      "execution_count": 45
    },
    {
      "cell_type": "markdown",
      "source": [
        "### 2.8 Match all whitespaces\n",
        "The identifier <b>\\s</b> finds all whitespaces - space, tab, new line"
      ],
      "metadata": {
        "id": "0af368f7",
        "azdata_cell_guid": "78d073ac-3a7a-4627-9acb-b47041911160"
      }
    },
    {
      "cell_type": "code",
      "source": [
        "pattern = re.compile(r'\\s')\n",
        "matches = pattern.findall(sample_text)\n",
        "print(matches)"
      ],
      "metadata": {
        "id": "a1a43f80",
        "outputId": "c34ef163-4f7c-4902-a97f-6431df731348",
        "colab": {
          "base_uri": "https://localhost:8080/"
        },
        "azdata_cell_guid": "bbccb2d1-1a33-4047-a983-8e8f43ea2d83",
        "language": "python"
      },
      "outputs": [
        {
          "output_type": "stream",
          "name": "stdout",
          "text": [
            "[' ', ' ', ' ']\n"
          ]
        }
      ],
      "execution_count": 46
    },
    {
      "cell_type": "markdown",
      "source": [
        "### 2.8 Match all which are NOT whitespaces\n",
        "The identifier <b>\\S</b> finds all which are not space, tab and new line"
      ],
      "metadata": {
        "id": "423ff5fe",
        "azdata_cell_guid": "c81f4ced-11e8-4ff1-b6c4-98136e7ed6f9"
      }
    },
    {
      "cell_type": "code",
      "source": [
        "pattern = re.compile(r'\\S')\n",
        "matches = pattern.findall(sample_text)\n",
        "print(matches)"
      ],
      "metadata": {
        "id": "cb731917",
        "outputId": "b6e0473d-361a-4317-c041-64782e2eeed5",
        "colab": {
          "base_uri": "https://localhost:8080/"
        },
        "azdata_cell_guid": "381b866d-76c8-4132-891e-2db08334f25e",
        "language": "python"
      },
      "outputs": [
        {
          "output_type": "stream",
          "name": "stdout",
          "text": [
            "['a', 'b', 'c', 'x', 'y', 'z', 'A', 'B', 'C', 'X', 'Y', 'Z', 'a', 'b', 'c', 'x', 'y', 'z', '%', '$', '.', '.', '.', '|', '6', '7', '6', '-', '8', '9', '8']\n"
          ]
        }
      ],
      "execution_count": 47
    },
    {
      "cell_type": "markdown",
      "source": [
        "### 2.9 Reserved Characters\n",
        "Some characters are reserved for specific functions in regular expressions - . ^ $ * + ? { } [ ] | \\ ( )\n",
        "\n",
        "We cannot use them directly. For example, as we saw earlier, using '.' gives you all the characters, but what if you want to find the occurance of all dots in a text? You can use the backslash to tell python that you actually want to find a dot and not use dot as an identifier"
      ],
      "metadata": {
        "id": "6670c089",
        "azdata_cell_guid": "00994246-87d7-44bf-bd14-99316c488f4e"
      }
    },
    {
      "cell_type": "code",
      "source": [
        "pattern = re.compile(r'\\.')\n",
        "matches = pattern.findall(sample_text)\n",
        "print(matches)"
      ],
      "metadata": {
        "id": "6aa1b013",
        "outputId": "4cb87ab6-1ae7-470d-bf0b-20bff38c552c",
        "colab": {
          "base_uri": "https://localhost:8080/"
        },
        "azdata_cell_guid": "a4fdb648-c605-4d52-8553-cbde0b436c7c",
        "language": "python"
      },
      "outputs": [
        {
          "output_type": "stream",
          "name": "stdout",
          "text": [
            "['.', '.', '.']\n"
          ]
        }
      ],
      "execution_count": 48
    },
    {
      "cell_type": "markdown",
      "source": [
        "### 2.10 Splitting data\n",
        "Which returns a list where the string has been split at each match"
      ],
      "metadata": {
        "id": "Yd78kYE9X-Nc",
        "azdata_cell_guid": "f7791ec3-70b8-4d92-9be5-ad42d3d9d6aa"
      }
    },
    {
      "cell_type": "code",
      "source": [
        "#split by spaces\n",
        "text = \"Hello World! This is a test.\"\n",
        "words = re.split(r'\\s+', text)\n",
        "\n",
        "words"
      ],
      "metadata": {
        "outputId": "e4c12b20-2c6a-4f7f-9ed2-c0e8d89a25e4",
        "colab": {
          "base_uri": "https://localhost:8080/"
        },
        "id": "tCTUKYOhX-Nd",
        "azdata_cell_guid": "306ca6e1-bf0b-46dc-b49c-4f510fbc7e06",
        "language": "python"
      },
      "outputs": [
        {
          "output_type": "execute_result",
          "data": {
            "text/plain": [
              "['Hello', 'World!', 'This', 'is', 'a', 'test.']"
            ]
          },
          "metadata": {},
          "execution_count": 49
        }
      ],
      "execution_count": 49
    },
    {
      "cell_type": "code",
      "source": [
        "#split by commas and spaces\n",
        "text = \"apple,banana, cherry, date\"\n",
        "fruits = re.split(r',\\s*', text)\n",
        "print(fruits)"
      ],
      "metadata": {
        "outputId": "9c2f1b9e-e7d0-4e5c-a9a4-de9a0cecaab6",
        "colab": {
          "base_uri": "https://localhost:8080/"
        },
        "id": "R_Cx608pX-Nd",
        "azdata_cell_guid": "4b4facce-8c70-4eda-8d59-f68a2b0c11b4",
        "language": "python"
      },
      "outputs": [
        {
          "output_type": "stream",
          "name": "stdout",
          "text": [
            "['apple', 'banana', 'cherry', 'date']\n"
          ]
        }
      ],
      "execution_count": 50
    },
    {
      "cell_type": "code",
      "source": [
        "#split by multiple delimiters\n",
        "text = \"One, two; three - four\"\n",
        "items = re.split(r'[,\\s;.-]+', text)\n",
        "print(items)"
      ],
      "metadata": {
        "outputId": "55b76f14-6f84-4abc-d897-a08cdb736e1c",
        "colab": {
          "base_uri": "https://localhost:8080/"
        },
        "id": "pGpnegm5X-Nd",
        "azdata_cell_guid": "e6637d61-43e1-4b72-8964-306d30f5ddc0",
        "language": "python"
      },
      "outputs": [
        {
          "output_type": "stream",
          "name": "stdout",
          "text": [
            "['One', 'two', 'three', 'four']\n"
          ]
        }
      ],
      "execution_count": 51
    },
    {
      "cell_type": "code",
      "source": [
        "#split by digits\n",
        "text = \"The year is 2023\"\n",
        "parts = re.split(r'\\d+', text)\n",
        "print(parts)"
      ],
      "metadata": {
        "outputId": "c2d6e251-e790-433a-8a88-e921a2bda609",
        "colab": {
          "base_uri": "https://localhost:8080/"
        },
        "id": "nrTNb3tFX-Nd",
        "azdata_cell_guid": "343d3557-c2e7-4f52-bb09-84e7a39da1e8",
        "language": "python"
      },
      "outputs": [
        {
          "output_type": "stream",
          "name": "stdout",
          "text": [
            "['The year is ', '']\n"
          ]
        }
      ],
      "execution_count": 52
    },
    {
      "cell_type": "code",
      "source": [
        "#split non-word characters\n",
        "text = \"Hello! World@ This# is^ a$ test%\"\n",
        "words = re.split(r'\\W+', text)\n",
        "print(words)"
      ],
      "metadata": {
        "outputId": "2bcc0e56-9039-4b8b-f285-91f86d223be6",
        "colab": {
          "base_uri": "https://localhost:8080/"
        },
        "id": "bn1k9NfXX-Nd",
        "azdata_cell_guid": "6fa2c168-367c-43af-98aa-af14cec30315",
        "language": "python"
      },
      "outputs": [
        {
          "output_type": "stream",
          "name": "stdout",
          "text": [
            "['Hello', 'World', 'This', 'is', 'a', 'test', '']\n"
          ]
        }
      ],
      "execution_count": 53
    },
    {
      "cell_type": "markdown",
      "source": [
        "## 3.0 Exercise Study 1 - Extracting dates from logs\n",
        "\n",
        "Let's use our understanding from the above exercise to extract dates from the below sample text"
      ],
      "metadata": {
        "id": "40e0e876",
        "azdata_cell_guid": "fa4a4bb4-118c-469f-9c86-3ae9994b75cd"
      }
    },
    {
      "cell_type": "code",
      "source": [
        "sample_text = \"\"\"\n",
        "2021-01-01: January 2021, Friday: Mr. Xyz\n",
        "2021-07-19: July 2021, Monday: Mr L\n",
        "2021-05-28: May 2021, Friday: Ms. IOU abc\n",
        "2021/11/10: November 2021, Wednesday: Dr. Moby D\n",
        "2020-01-01xyzabc: Jan 10th: Dr Dora The Exp\n",
        "2020-04-02 0-1102-010002: Mrs. Joy\n",
        "2020-02-01 0-12-010002: Mr. Mario\n",
        "2019-09-18: suu: Mr. Luigi\n",
        "2018-07-01: hha iuas\n",
        "21-10-19: xyuz sus\n",
        "21-10-18\n",
        "21-9-20\n",
        "21-8-14\n",
        "21/12/02\n",
        "21/11/14\n",
        "21/10/21\n",
        "\"\"\""
      ],
      "metadata": {
        "id": "3f1e171e",
        "azdata_cell_guid": "54edd20b-dda5-4539-97fb-13dd8f4f496e",
        "language": "python"
      },
      "outputs": [],
      "execution_count": 54
    },
    {
      "cell_type": "markdown",
      "source": [
        "#### Let's start simple\n",
        "First let's try to find all text that match 4 numbers, a dash, then 2 numbers, a dash and finally followed by 2 more numbers"
      ],
      "metadata": {
        "id": "105022d8",
        "azdata_cell_guid": "ce9e286e-adde-45c5-a7e1-5f20ed78e62a"
      }
    },
    {
      "cell_type": "code",
      "source": [
        "pattern = re.compile(r'\\d\\d\\d\\d-\\d\\d-\\d\\d')\n",
        "matches = pattern.findall(sample_text)\n",
        "print(matches)"
      ],
      "metadata": {
        "id": "7942e871",
        "outputId": "e18d9d39-031e-4882-e9f4-ed6d13e02b36",
        "colab": {
          "base_uri": "https://localhost:8080/"
        },
        "azdata_cell_guid": "8cd812b3-b2ec-434b-a908-f7847340a696",
        "language": "python"
      },
      "outputs": [
        {
          "output_type": "stream",
          "name": "stdout",
          "text": [
            "['2021-01-01', '2021-07-19', '2021-05-28', '2020-01-01', '2020-04-02', '2020-02-01', '2019-09-18', '2018-07-01']\n"
          ]
        }
      ],
      "execution_count": 55
    },
    {
      "cell_type": "markdown",
      "source": [
        "#### Using Quantifiers to match patterns\n",
        "You can use quantifiers to check of multiple occurances. For example, instead of repeating <b>\\d</b> four times, you can say <b>\\d+</b> which will look for 1 or more digits"
      ],
      "metadata": {
        "id": "2a474930",
        "azdata_cell_guid": "a8e2f2c9-9609-4d01-ad67-4b0e9d352357"
      }
    },
    {
      "cell_type": "code",
      "source": [
        "pattern = re.compile(r'\\d+-\\d+-\\d+')\n",
        "matches = pattern.findall(sample_text)\n",
        "print(matches)"
      ],
      "metadata": {
        "id": "e251896a",
        "outputId": "1326c723-928f-483f-9005-0148856550e4",
        "colab": {
          "base_uri": "https://localhost:8080/"
        },
        "azdata_cell_guid": "4758bfc0-3e1b-4b1d-9881-847be7a410f2",
        "language": "python"
      },
      "outputs": [
        {
          "output_type": "stream",
          "name": "stdout",
          "text": [
            "['2021-01-01', '2021-07-19', '2021-05-28', '2020-01-01', '2020-04-02', '0-1102-010002', '2020-02-01', '0-12-010002', '2019-09-18', '2018-07-01', '21-10-19', '21-10-18', '21-9-20', '21-8-14']\n"
          ]
        }
      ],
      "execution_count": 56
    },
    {
      "cell_type": "markdown",
      "source": [
        "But if we do this, you end up with garbage values like <b>0-1102-010002</b> and <b>0-12-010002</b>. You can avoid these by specifying the exact number of digits to check for using curly brackets - <b>{how many?}</b>"
      ],
      "metadata": {
        "id": "d76afc2e",
        "azdata_cell_guid": "a36b8bf9-10ef-4dba-a7c2-b4faf6378894"
      }
    },
    {
      "cell_type": "code",
      "source": [
        "pattern = re.compile(r'\\d{4}-\\d{2}-\\d{2}')\n",
        "matches = pattern.findall(sample_text)\n",
        "print(matches)"
      ],
      "metadata": {
        "id": "82be7045",
        "outputId": "11153697-7abe-4bcb-fb61-b206a3a0be36",
        "colab": {
          "base_uri": "https://localhost:8080/"
        },
        "azdata_cell_guid": "6bd45f74-f79e-46f0-9f11-855a53a52b3a",
        "language": "python"
      },
      "outputs": [
        {
          "output_type": "stream",
          "name": "stdout",
          "text": [
            "['2021-01-01', '2021-07-19', '2021-05-28', '2020-01-01', '2020-04-02', '2020-02-01', '2019-09-18', '2018-07-01']\n"
          ]
        }
      ],
      "execution_count": 57
    },
    {
      "cell_type": "markdown",
      "source": [
        "Now, we are missing out on dates which have only 2 digits to represent the year - like <b>21-10-19</b> and 1 digit to represent the year - like <b>21-8-14</b>. To include these as well, we can change the pattern to look for a range of numbers. You can do this with <b>{min,max}</b>"
      ],
      "metadata": {
        "id": "6a2e1e60",
        "azdata_cell_guid": "8875456b-8941-4406-b2a8-bc0f0fbcf087"
      }
    },
    {
      "cell_type": "code",
      "source": [
        "pattern = re.compile(r'\\d{2,4}-\\d{1,2}-\\d{2}')\n",
        "matches = pattern.findall(sample_text)\n",
        "print(matches)"
      ],
      "metadata": {
        "id": "72a917ad",
        "outputId": "dadec7fa-782e-4576-ca42-1d84ec22d80b",
        "colab": {
          "base_uri": "https://localhost:8080/"
        },
        "azdata_cell_guid": "881ba365-db38-4702-961f-19b28951d46c",
        "language": "python"
      },
      "outputs": [
        {
          "output_type": "stream",
          "name": "stdout",
          "text": [
            "['2021-01-01', '2021-07-19', '2021-05-28', '2020-01-01', '2020-04-02', '2020-02-01', '2019-09-18', '2018-07-01', '21-10-19', '21-10-18', '21-9-20', '21-8-14']\n"
          ]
        }
      ],
      "execution_count": 58
    },
    {
      "cell_type": "markdown",
      "source": [
        "#### Matching multiple characters"
      ],
      "metadata": {
        "id": "ceb9ba9b",
        "azdata_cell_guid": "18b14f9b-d749-4d71-b050-abe370dc79cd"
      }
    },
    {
      "cell_type": "markdown",
      "source": [
        "The above code is not yet perfect. It misses out on dates which are separated by '/' - like <b>21/10/21</b>. We can use square brackets <b>[ ]</b> to tell python to look for -'s or for /'s"
      ],
      "metadata": {
        "id": "fee303c5",
        "azdata_cell_guid": "27ff3dec-647c-4a74-807c-d6a1051d3258"
      }
    },
    {
      "cell_type": "code",
      "source": [
        "pattern = re.compile(r'\\d{2,4}[-/]\\d{1,2}[-/]\\d{2}')\n",
        "matches = pattern.findall(sample_text)\n",
        "print(matches)"
      ],
      "metadata": {
        "id": "5c4ebf81",
        "outputId": "bf96ad15-5bf2-4a39-a49e-e1038b3df279",
        "colab": {
          "base_uri": "https://localhost:8080/"
        },
        "azdata_cell_guid": "a9e24f38-22f7-41ba-998f-b2f728b9e851",
        "language": "python"
      },
      "outputs": [
        {
          "output_type": "stream",
          "name": "stdout",
          "text": [
            "['2021-01-01', '2021-07-19', '2021-05-28', '2021/11/10', '2020-01-01', '2020-04-02', '2020-02-01', '2019-09-18', '2018-07-01', '21-10-19', '21-10-18', '21-9-20', '21-8-14', '21/12/02', '21/11/14', '21/10/21']\n"
          ]
        }
      ],
      "execution_count": 59
    },
    {
      "cell_type": "markdown",
      "source": [
        "## 4.0 Exercise Study 2 - Extracting names from logs\n",
        "\n",
        "Let's try to extract all the names in the sample text. We need 8 names - Mr. Xyz, Mr L, Ms. IOU abc, Dr. Moby D, Dr Dora the Exp., Mrs. Joy, Mr. Mario and Mr. Luigi"
      ],
      "metadata": {
        "id": "1eeb2f0b",
        "azdata_cell_guid": "5b74f390-104d-4a71-aa8a-3f93f8bf108d"
      }
    },
    {
      "cell_type": "code",
      "source": [
        "sample_text = \"\"\"\n",
        "2021-01-01: January 2021, Friday: Mr. Xyz\n",
        "2021-07-19: July 2021, Monday: Mr L\n",
        "2021-05-28: May 2021, Friday: Ms. IOU abc\n",
        "2021/11/10: November 2021, Wednesday: Dr. Moby D\n",
        "2020-01-01xyzabc: Jan 10th: Dr Dora The Exp\n",
        "2020-04-02 0-1102-010002: Mrs. Joy\n",
        "2020-02-01 0-12-010002: Mr. Mario\n",
        "2019-09-18: suu: Mr. Luigi\n",
        "2018-07-01: hha iuas\n",
        "21-10-19: xyuz sus\n",
        "21-10-18\n",
        "21-9-20\n",
        "21-8-14\n",
        "21/12/02\n",
        "21/11/14\n",
        "21/10/21\n",
        "\"\"\""
      ],
      "metadata": {
        "id": "4569ee5e",
        "azdata_cell_guid": "819b343a-cd5c-49cc-b5d0-c59d9fdac65d",
        "language": "python"
      },
      "outputs": [],
      "execution_count": 60
    },
    {
      "cell_type": "markdown",
      "source": [
        "Let's start by getting all the Mr"
      ],
      "metadata": {
        "id": "8904e35e",
        "azdata_cell_guid": "eb0dfcd1-5d1f-4c89-92c1-aae674c0c868"
      }
    },
    {
      "cell_type": "code",
      "source": [
        "pattern = re.compile(r'Mr')\n",
        "matches = pattern.findall(sample_text)\n",
        "print(matches)"
      ],
      "metadata": {
        "id": "4cd96786",
        "outputId": "0380aa4d-4e14-4343-9bde-7b5c969c0df8",
        "colab": {
          "base_uri": "https://localhost:8080/"
        },
        "azdata_cell_guid": "fdafd73d-fd69-4cce-97a5-c12a68c2649f",
        "language": "python"
      },
      "outputs": [
        {
          "output_type": "stream",
          "name": "stdout",
          "text": [
            "['Mr', 'Mr', 'Mr', 'Mr', 'Mr']\n"
          ]
        }
      ],
      "execution_count": 61
    },
    {
      "cell_type": "markdown",
      "source": [
        "After Mr, you can have a dot or need not have it. We can use the <b>?</b> quantifier to specifiy 0 or 1 dot"
      ],
      "metadata": {
        "id": "acd1fd34",
        "azdata_cell_guid": "7fe586f8-f064-45fd-a415-9f5952544c33"
      }
    },
    {
      "cell_type": "code",
      "source": [
        "pattern = re.compile(r'Mr\\.?')\n",
        "matches = pattern.findall(sample_text)\n",
        "print(matches)"
      ],
      "metadata": {
        "id": "6cb950c5",
        "outputId": "fde9d089-ab25-431b-a951-a7d8da36501d",
        "colab": {
          "base_uri": "https://localhost:8080/"
        },
        "azdata_cell_guid": "c6b400d5-80b0-4f5c-8ab0-d298ac85979f",
        "language": "python"
      },
      "outputs": [
        {
          "output_type": "stream",
          "name": "stdout",
          "text": [
            "['Mr.', 'Mr', 'Mr', 'Mr.', 'Mr.']\n"
          ]
        }
      ],
      "execution_count": 62
    },
    {
      "cell_type": "markdown",
      "source": [
        "Now let's bring in Mr, Ms, Mrs and Dr too into the match. For this, we can use <b>(group)</b> them using either or <b>|</b>"
      ],
      "metadata": {
        "id": "823bfe4a",
        "azdata_cell_guid": "ebcaf160-b936-4302-a77f-6b18d896015a"
      }
    },
    {
      "cell_type": "code",
      "source": [
        "pattern = re.compile(r'(?:Mr|Ms|Mrs|Dr)\\.?')\n",
        "matches = pattern.findall(sample_text)\n",
        "print(matches)"
      ],
      "metadata": {
        "id": "10069cdd",
        "outputId": "b10a5c78-eae3-4407-a869-db90ab7ccd08",
        "colab": {
          "base_uri": "https://localhost:8080/"
        },
        "azdata_cell_guid": "f6f28c39-652d-4765-a3e8-73fc28480eb9",
        "language": "python"
      },
      "outputs": [
        {
          "output_type": "stream",
          "name": "stdout",
          "text": [
            "['Mr.', 'Mr', 'Ms.', 'Dr.', 'Dr', 'Mr', 'Mr.', 'Mr.']\n"
          ]
        }
      ],
      "execution_count": 63
    },
    {
      "cell_type": "markdown",
      "source": [
        "Now let's get the first names. You have a space, then a capital letter, then 0 or many words"
      ],
      "metadata": {
        "id": "97dfbd47",
        "azdata_cell_guid": "830f274f-680c-4b02-afb6-85151061f041"
      }
    },
    {
      "cell_type": "code",
      "source": [
        "pattern = re.compile(r'(?:Mr|Ms|Mrs|Dr)\\.?\\s[A-Z]\\w*')\n",
        "matches = pattern.findall(sample_text)\n",
        "print(matches)"
      ],
      "metadata": {
        "id": "58fa8989",
        "outputId": "139bc6c6-dc59-43c3-b15b-ffa2080e4c12",
        "colab": {
          "base_uri": "https://localhost:8080/"
        },
        "azdata_cell_guid": "07b08877-6ae8-46a3-b422-01486dabcc11",
        "language": "python"
      },
      "outputs": [
        {
          "output_type": "stream",
          "name": "stdout",
          "text": [
            "['Mr. Xyz', 'Mr L', 'Ms. IOU', 'Dr. Moby', 'Dr Dora', 'Mrs. Joy', 'Mr. Mario', 'Mr. Luigi']\n"
          ]
        }
      ],
      "execution_count": 64
    },
    {
      "cell_type": "markdown",
      "source": [
        "Now let's get their middle names and last names"
      ],
      "metadata": {
        "id": "d10995f1",
        "azdata_cell_guid": "fa7c8200-e9ea-4239-aaf6-22902d53eead"
      }
    },
    {
      "cell_type": "code",
      "source": [
        "sample_text = \"\"\"\n",
        "2021-01-01: January 2021, Friday: Mr. Xyz\n",
        "2021-07-19: July 2021, Monday: Mr L\n",
        "2021-05-28: May 2021, Friday: Ms. IOU abc\n",
        "2021/11/10: November 2021, Wednesday: Dr. Moby D\n",
        "2020-01-01xyzabc: Jan 10th: Dr Dora The Exp\n",
        "2020-04-02 0-1102-010002: Mrs. Joy\n",
        "2020-02-01 0-12-010002: Mr. Mario\n",
        "2019-09-18: suu: Mr. Luigi\n",
        "2018-07-01: hha iuas\n",
        "21-10-19: xyuz sus\n",
        "21-10-18\n",
        "21-9-20\n",
        "21-8-14\n",
        "21/12/02\n",
        "21/11/14\n",
        "21/10/21\n",
        "\"\"\""
      ],
      "metadata": {
        "id": "5f3db4c3",
        "azdata_cell_guid": "4352f918-4568-4c35-abf4-2f5a5f75af93",
        "language": "python"
      },
      "outputs": [],
      "execution_count": 65
    },
    {
      "cell_type": "markdown",
      "source": [
        "After the first name, there is a space, then there are none or more characters. Also note, that not all names have names have middle and last names, so the expressions have to be optional.\n",
        "\n",
        "<b> ?</b> finds the optional space\n",
        "    \n",
        "<b>(?:[A-Za-z]\\w*)?</b> finds the optional middle and last names"
      ],
      "metadata": {
        "id": "b39e91aa",
        "azdata_cell_guid": "18f781c8-d2a7-45ae-b9fc-5be873ff81fe"
      }
    },
    {
      "cell_type": "code",
      "source": [
        "pattern = re.compile(r'(?:Mr|Ms|Mrs|Dr)\\.?\\s[A-Z]\\w* ?(?:[A-Za-z]\\w*)? ?(?:[A-Za-z]\\w*)?')\n",
        "matches = pattern.findall(sample_text)\n",
        "print(matches)"
      ],
      "metadata": {
        "id": "30082c9a",
        "outputId": "28e59265-34ec-44ed-f9c2-f6ed538d3a95",
        "colab": {
          "base_uri": "https://localhost:8080/"
        },
        "azdata_cell_guid": "45c2ff04-90ef-47df-8fae-6b774754edb4",
        "language": "python"
      },
      "outputs": [
        {
          "output_type": "stream",
          "name": "stdout",
          "text": [
            "['Mr. Xyz', 'Mr L', 'Ms. IOU abc', 'Dr. Moby D', 'Dr Dora The Exp', 'Mrs. Joy', 'Mr. Mario', 'Mr. Luigi']\n"
          ]
        }
      ],
      "execution_count": 66
    },
    {
      "cell_type": "markdown",
      "source": [
        "---"
      ],
      "metadata": {
        "id": "59eG_xTDYDoQ",
        "azdata_cell_guid": "cbcb1152-64f5-4472-ae78-d6f4e892cce6"
      }
    }
  ]
}
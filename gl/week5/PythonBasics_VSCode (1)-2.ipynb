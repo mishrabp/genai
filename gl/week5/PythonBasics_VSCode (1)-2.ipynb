{
 "cells": [
  {
   "cell_type": "markdown",
   "metadata": {},
   "source": [
    "# Variables and Type Conversion"
   ]
  },
  {
   "cell_type": "markdown",
   "metadata": {},
   "source": [
    "This notebook is just for practice with respect to opening it in Visual Studio Code and running the notebook."
   ]
  },
  {
   "cell_type": "markdown",
   "metadata": {},
   "source": [
    "The below set of codes define variables of different types (integer, float, string) and demonstrates type conversion between these types."
   ]
  },
  {
   "cell_type": "markdown",
   "metadata": {},
   "source": [
    "1. Variables"
   ]
  },
  {
   "cell_type": "code",
   "execution_count": 1,
   "metadata": {},
   "outputs": [],
   "source": [
    "# Defining variables\n",
    "integer_var = 10  # Integer variable\n",
    "float_var = 20.5  # Float variable\n",
    "string_var = \"Hello, Python!\"  # String variable\n"
   ]
  },
  {
   "cell_type": "code",
   "execution_count": 2,
   "metadata": {},
   "outputs": [
    {
     "name": "stdout",
     "output_type": "stream",
     "text": [
      "Integer: 10\n",
      "Float: 20.5\n",
      "String: Hello, Python!\n"
     ]
    }
   ],
   "source": [
    "# Printing variables\n",
    "print(\"Integer:\", integer_var)\n",
    "print(\"Float:\", float_var)\n",
    "print(\"String:\", string_var)"
   ]
  },
  {
   "cell_type": "markdown",
   "metadata": {},
   "source": [
    "2. Type Conversion"
   ]
  },
  {
   "cell_type": "code",
   "execution_count": 3,
   "metadata": {},
   "outputs": [],
   "source": [
    "# Type conversion\n",
    "integer_to_float = float(integer_var)  # Converting integer to float\n",
    "float_to_integer = int(float_var)  # Converting float to integer\n",
    "string_to_integer = int(\"123\")  # Converting string to integer"
   ]
  },
  {
   "cell_type": "code",
   "execution_count": 4,
   "metadata": {},
   "outputs": [
    {
     "name": "stdout",
     "output_type": "stream",
     "text": [
      "Converted Integer to Float: 10.0\n",
      "Converted Float to Integer: 20\n",
      "Converted String to Integer: 123\n"
     ]
    }
   ],
   "source": [
    "print(\"Converted Integer to Float:\", integer_to_float)\n",
    "print(\"Converted Float to Integer:\", float_to_integer)\n",
    "print(\"Converted String to Integer:\", string_to_integer)"
   ]
  },
  {
   "cell_type": "markdown",
   "metadata": {},
   "source": [
    "You can include more cells in this notebook for practicing and experimenting codes in this notebook."
   ]
  }
 ],
 "metadata": {
  "kernelspec": {
   "display_name": "Python 3",
   "language": "python",
   "name": "python3"
  },
  "language_info": {
   "codemirror_mode": {
    "name": "ipython",
    "version": 3
   },
   "file_extension": ".py",
   "mimetype": "text/x-python",
   "name": "python",
   "nbconvert_exporter": "python",
   "pygments_lexer": "ipython3",
   "version": "3.12.2"
  }
 },
 "nbformat": 4,
 "nbformat_minor": 2
}

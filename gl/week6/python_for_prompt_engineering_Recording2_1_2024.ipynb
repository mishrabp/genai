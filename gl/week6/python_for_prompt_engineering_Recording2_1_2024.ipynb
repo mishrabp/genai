{
  "cells": [
    {
      "cell_type": "markdown",
      "metadata": {
        "id": "PgdGQc_LqPll"
      },
      "source": [
        "## **Python for learning Prompt Engineering **"
      ]
    },
    {
      "cell_type": "markdown",
      "metadata": {
        "id": "wNaPOjMwTQyj"
      },
      "source": [
        "### **Objective(s)**\n",
        "1. Learn how to store text in python and edit / add it\n",
        "2. Learn how to read a file into python\n",
        "3. Text data cleaning\n"
      ]
    },
    {
      "cell_type": "markdown",
      "metadata": {
        "id": "jVRhw1JAYZPx"
      },
      "source": [
        "### How to store text in python and edit it?"
      ]
    },
    {
      "cell_type": "markdown",
      "metadata": {
        "id": "cQ5TX6nOYhOM"
      },
      "source": [
        "Before you do prompt engineering in python, you need to learn how to save text in a variable and how to manipulate it\n",
        "\n",
        "Prompts are multi-line texts, and we can use triple quotes in python to store text"
      ]
    },
    {
      "cell_type": "code",
      "execution_count": 1,
      "metadata": {
        "id": "hGb8kT9xZx-F"
      },
      "outputs": [],
      "source": [
        "text = f\"\"\"\n",
        "In a world where Generative AI thrived, creativity knew no bounds. It painted symphonies,\n",
        "sculpted dreams, and penned tales beyond imagination. Yet, amidst the brilliance,\n",
        "it yearned to understand the one thing it couldn't create - the human heart.\n",
        "\"\"\""
      ]
    },
    {
      "cell_type": "code",
      "execution_count": 2,
      "metadata": {
        "colab": {
          "base_uri": "https://localhost:8080/"
        },
        "id": "ez39sWBSbUmT",
        "outputId": "8f3123e1-650e-46b6-faa0-ae548740a1e9"
      },
      "outputs": [
        {
          "name": "stdout",
          "output_type": "stream",
          "text": [
            "\n",
            "In a world where Generative AI thrived, creativity knew no bounds. It painted symphonies,\n",
            "sculpted dreams, and penned tales beyond imagination. Yet, amidst the brilliance,\n",
            "it yearned to understand the one thing it couldn't create - the human heart.\n",
            "\n"
          ]
        }
      ],
      "source": [
        "print(text)"
      ]
    },
    {
      "cell_type": "markdown",
      "metadata": {
        "id": "ZMQT5RdHbe7v"
      },
      "source": [
        "Sometimes, you might need to insert another piece of text or a word into an existing text. You can do this by using placeholder\n",
        "\n",
        "Say you need insert the below text as a new paragraph in the original text:\n",
        "\n",
        "**\"But as they strove for perfection, they discovered that true beauty lay in the imperfections of the human spirit.\"**"
      ]
    },
    {
      "cell_type": "code",
      "execution_count": 3,
      "metadata": {
        "id": "PIZJIXkjbdDO"
      },
      "outputs": [],
      "source": [
        "additional_text = f\"\"\"\n",
        "But as they strove for perfection, they discovered that true beauty lay\n",
        "in the imperfections of the human spirit.\n",
        "\"\"\""
      ]
    },
    {
      "cell_type": "markdown",
      "metadata": {
        "id": "HwkLmbVLcWWN"
      },
      "source": [
        "There are many ways to do this, but let's explore how to do this with placeholders as they are relevant to the context of learning to do prompt engineering on python\n",
        "\n",
        "Let's modify the original text variable to add a placeholder -"
      ]
    },
    {
      "cell_type": "code",
      "execution_count": 4,
      "metadata": {
        "id": "JVfgdqp8cUk4"
      },
      "outputs": [],
      "source": [
        "text = f\"\"\"\n",
        "In a world where Generative AI thrived, creativity knew no bounds. It painted symphonies,\n",
        "sculpted dreams, and penned tales beyond imagination. Yet, amidst the brilliance,\n",
        "it yearned to understand the one thing it couldn't create - the human heart.\n",
        "\n",
        "{additional_text}\n",
        "\"\"\""
      ]
    },
    {
      "cell_type": "code",
      "execution_count": 5,
      "metadata": {
        "colab": {
          "base_uri": "https://localhost:8080/"
        },
        "id": "fTILKowOcwER",
        "outputId": "0ee50da6-9e98-410c-c412-227c124270f3"
      },
      "outputs": [
        {
          "name": "stdout",
          "output_type": "stream",
          "text": [
            "\n",
            "In a world where Generative AI thrived, creativity knew no bounds. It painted symphonies,\n",
            "sculpted dreams, and penned tales beyond imagination. Yet, amidst the brilliance,\n",
            "it yearned to understand the one thing it couldn't create - the human heart.\n",
            "\n",
            "\n",
            "But as they strove for perfection, they discovered that true beauty lay\n",
            "in the imperfections of the human spirit.\n",
            "\n",
            "\n"
          ]
        }
      ],
      "source": [
        "print(text)"
      ]
    },
    {
      "cell_type": "markdown",
      "metadata": {
        "id": "5K570qy1VYK4"
      },
      "source": [
        "### How to read data from a file into python?"
      ]
    },
    {
      "cell_type": "markdown",
      "metadata": {
        "id": "thVci79yVivJ"
      },
      "source": [
        "In order to be abe to authenticate our identity and programmatically access the API from Google Colab, you will need to read your credentials into the Colab environment in a secure way. To do this, you need an understanding of how to read a file into python\n"
      ]
    },
    {
      "cell_type": "markdown",
      "metadata": {
        "id": "x6XCsUwGWDzz"
      },
      "source": [
        "To learn how to do this, let's first create a JSON file"
      ]
    },
    {
      "cell_type": "code",
      "execution_count": 6,
      "metadata": {
        "colab": {
          "base_uri": "https://localhost:8080/"
        },
        "id": "r2ycnErMUhrp",
        "outputId": "17bf84a7-526e-4734-c51e-aabb657e28ca"
      },
      "outputs": [
        {
          "name": "stdout",
          "output_type": "stream",
          "text": [
            "Writing sample.json\n"
          ]
        }
      ],
      "source": [
        "%%writefile sample.json\n",
        "\n",
        "{\n",
        "  \"key_1\":\"HU09KJK\",\n",
        "  \"key_2\":\"HJXTPEE\"\n",
        "}"
      ]
    },
    {
      "cell_type": "markdown",
      "metadata": {
        "id": "m6ckp2MeWaBp"
      },
      "source": [
        "If you now look into your google colab file browser, you should have a JSON file. Now, if this was a set of credentials, how do you read this into python?\n",
        "\n",
        "The first thing you need is a python package to parse a JSON file"
      ]
    },
    {
      "cell_type": "code",
      "execution_count": 7,
      "metadata": {
        "id": "2rwnKHXUWq5G"
      },
      "outputs": [],
      "source": [
        "import json"
      ]
    },
    {
      "cell_type": "markdown",
      "metadata": {
        "id": "zc2KnIvuWszN"
      },
      "source": [
        "Now you use the `open` method in python to read and file and then the `json` package to extract what you need from the file"
      ]
    },
    {
      "cell_type": "code",
      "execution_count": 8,
      "metadata": {
        "id": "QMtvHBlsW34D"
      },
      "outputs": [],
      "source": [
        "with open('sample.json', 'r') as my_credentials:\n",
        "    data = my_credentials.read()\n",
        "\n",
        "creds = json.loads(data) # this will load your data into a dictionary"
      ]
    },
    {
      "cell_type": "code",
      "execution_count": 9,
      "metadata": {
        "colab": {
          "base_uri": "https://localhost:8080/"
        },
        "id": "bHKJf09AW8yY",
        "outputId": "e63a4e12-671f-47bc-95ae-2cd19205a10f"
      },
      "outputs": [
        {
          "name": "stdout",
          "output_type": "stream",
          "text": [
            "{'key_1': 'HU09KJK', 'key_2': 'HJXTPEE'}\n",
            "<class 'dict'>\n"
          ]
        }
      ],
      "source": [
        "print(creds)\n",
        "print(type(creds))"
      ]
    },
    {
      "cell_type": "code",
      "execution_count": 10,
      "metadata": {
        "colab": {
          "base_uri": "https://localhost:8080/",
          "height": 36
        },
        "id": "bpD8_YM2ohDq",
        "outputId": "bc0f6ea6-b21e-4bde-e924-b0b41f7b0319"
      },
      "outputs": [
        {
          "data": {
            "application/vnd.google.colaboratory.intrinsic+json": {
              "type": "string"
            },
            "text/plain": [
              "'HU09KJK'"
            ]
          },
          "execution_count": 10,
          "metadata": {},
          "output_type": "execute_result"
        }
      ],
      "source": [
        "creds['key_1']"
      ]
    },
    {
      "cell_type": "markdown",
      "metadata": {
        "id": "BurjU0l24AAh"
      },
      "source": [
        " Add-on : Reading and Storing Text Data"
      ]
    },
    {
      "cell_type": "code",
      "execution_count": 11,
      "metadata": {
        "colab": {
          "base_uri": "https://localhost:8080/"
        },
        "id": "4iwzbf3y4AAj",
        "outputId": "f83eb12e-d299-411e-af8f-0c82ff220ee9"
      },
      "outputs": [
        {
          "name": "stdout",
          "output_type": "stream",
          "text": [
            "\n",
            "Great service, very satisfied.\n",
            "Quick response time, but the solution did not work.\n",
            "Friendly staff and helpful advice.\n",
            "Website is hard to navigate.\n",
            "Excellent customer support.\n",
            "Received fast and accurate information.\n",
            "The wait time was too long.\n",
            "Had a pleasant experience with the customer service team.\n",
            "\n"
          ]
        }
      ],
      "source": [
        "# Sample code to read from 'customer_feedback.txt'\n",
        "with open('customer_feedback.txt', 'r') as file:\n",
        "    feedback_data = file.read()\n",
        "print(feedback_data)"
      ]
    },
    {
      "cell_type": "markdown",
      "metadata": {
        "id": "7Cfg5gqH4AAk"
      },
      "source": [
        "## Text Data Cleaning"
      ]
    },
    {
      "cell_type": "code",
      "execution_count": 12,
      "metadata": {
        "colab": {
          "base_uri": "https://localhost:8080/"
        },
        "id": "q9Uad4My4AAk",
        "outputId": "f6ca1799-6a52-449d-eb0e-77d9d3cc89e5"
      },
      "outputs": [
        {
          "name": "stdout",
          "output_type": "stream",
          "text": [
            "      name                               comments\n",
            "0    Alice             This product is excellent!\n",
            "1      Bob       Quite good, but could be better.\n",
            "2  Charlie                   Not what I expected.\n",
            "3    David       Absolutely wonderful experience.\n",
            "4      Eve  Could improve. Packaging was damaged.\n"
          ]
        }
      ],
      "source": [
        "## Data Exploration\n",
        "\n",
        "import pandas as pd\n",
        "\n",
        "# Load the dataset\n",
        "dataset = pd.read_csv('sample_dataset.csv')\n",
        "\n",
        "# Display the first few rows to understand the structure\n",
        "print(dataset.head())"
      ]
    },
    {
      "cell_type": "code",
      "execution_count": 14,
      "metadata": {
        "id": "9SxGn7yT5aVJ"
      },
      "outputs": [],
      "source": [
        "# Convert the comments to lower case\n",
        "dataset['comments_lower'] = dataset['comments'].str.lower()"
      ]
    },
    {
      "cell_type": "code",
      "execution_count": 15,
      "metadata": {
        "id": "Vg9O0LI-4AAk"
      },
      "outputs": [],
      "source": [
        "## Text Data Cleaning\n",
        "\n",
        "# Remove punctuation from the comments\n",
        "import re\n",
        "dataset['comments_clean'] = dataset['comments_lower'].apply(lambda x: re.sub(r'[^\\w\\s]', '', x))"
      ]
    },
    {
      "cell_type": "code",
      "execution_count": 16,
      "metadata": {
        "colab": {
          "base_uri": "https://localhost:8080/"
        },
        "id": "NWZPoXpx4AAk",
        "outputId": "a6a93a72-9089-4d22-fb01-ce2088f8953f"
      },
      "outputs": [
        {
          "name": "stdout",
          "output_type": "stream",
          "text": [
            "\n",
            "Data after cleaning:\n",
            "                                comments                       comments_clean\n",
            "0             This product is excellent!            this product is excellent\n",
            "1       Quite good, but could be better.       quite good but could be better\n",
            "2                   Not what I expected.                  not what i expected\n",
            "3       Absolutely wonderful experience.      absolutely wonderful experience\n",
            "4  Could improve. Packaging was damaged.  could improve packaging was damaged\n"
          ]
        }
      ],
      "source": [
        "# Display the cleaned data\n",
        "print(\"\\nData after cleaning:\")\n",
        "print(dataset[['comments', 'comments_clean']].head())"
      ]
    },
    {
      "cell_type": "code",
      "execution_count": null,
      "metadata": {
        "id": "skonWl8e4AAl"
      },
      "outputs": [],
      "source": []
    },
    {
      "cell_type": "markdown",
      "metadata": {
        "id": "Rdc5FuDCmOaK"
      },
      "source": [
        "\n",
        "\n",
        "---\n",
        "\n"
      ]
    }
  ],
  "metadata": {
    "colab": {
      "provenance": []
    },
    "kernelspec": {
      "display_name": "Python 3 (ipykernel)",
      "language": "python",
      "name": "python3"
    },
    "language_info": {
      "codemirror_mode": {
        "name": "ipython",
        "version": 3
      },
      "file_extension": ".py",
      "mimetype": "text/x-python",
      "name": "python",
      "nbconvert_exporter": "python",
      "pygments_lexer": "ipython3",
      "version": "3.9.7"
    }
  },
  "nbformat": 4,
  "nbformat_minor": 0
}

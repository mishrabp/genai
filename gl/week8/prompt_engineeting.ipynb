{
  "cells": [
    {
      "cell_type": "markdown",
      "metadata": {
        "id": "cjRIxHwW3d9v"
      },
      "source": [
        "Reference#\n",
        "https://colab.research.google.com/drive/1YVetNC4Dujk0ZBZhL8A9maaj2cYlDPep?usp=sharing\n"
      ]
    },
    {
      "cell_type": "code",
      "execution_count": 1,
      "metadata": {
        "id": "Ob-LUPrS3lez"
      },
      "outputs": [],
      "source": [
        "# Install the required packages\n",
        "!pip install openai==1.55.3 tiktoken==0.6 session-info --quiet"
      ]
    },
    {
      "cell_type": "code",
      "execution_count": 2,
      "metadata": {
        "id": "85mei1ig4hsf"
      },
      "outputs": [],
      "source": [
        "# Import all Python packages required to access the Azure Open AI API\n",
        "import json\n",
        "import tiktoken\n",
        "import session_info\n",
        "\n",
        "from openai import AzureOpenAI"
      ]
    },
    {
      "cell_type": "code",
      "execution_count": 5,
      "metadata": {
        "colab": {
          "base_uri": "https://localhost:8080/"
        },
        "id": "769Fgv6g55Zg",
        "outputId": "6370fddd-101f-4500-9795-2f763d30de0f"
      },
      "outputs": [
        {
          "name": "stdout",
          "output_type": "stream",
          "text": [
            "Config file created successfully!\n"
          ]
        }
      ],
      "source": [
        "# Your Azure Credentials\n",
        "# Define your configuration information\n",
        "config_data = {\n",
        "    \"AZURE_OPENAI_KEY\": \"4Y2e6GqDaqT5s59KogEIeg0djXGQfCJrJKBLWubqeLsczP4Oyu6HJQQJ99ALACYeBjFXJ3w3AAABACOGIsyu\",\n",
        "    \"AZURE_OPENAI_ENDPOINT\": \"https://sunita-project1-openai.openai.azure.com/\",\n",
        "    \"AZURE_OPENAI_APIVERSION\": \"2024-05-01-preview\",\n",
        "    \"CHATGPT_MODEL\": \"gpt-4o-mini\"\n",
        "}\n",
        "\n",
        "# Write the configuration information into the config.json file\n",
        "with open('/workspaces/genai/gl/config/config.json', 'w') as config_file:\n",
        "    json.dump(config_data, config_file, indent=4)\n",
        "\n",
        "print(\"Config file created successfully!\")"
      ]
    },
    {
      "cell_type": "code",
      "execution_count": null,
      "metadata": {
        "id": "rHK7k16Z6Li1"
      },
      "outputs": [],
      "source": [
        "# Azure Open AI credentials and the id of the deployed chat model are stored as\n",
        "# key value pairs in a json file\n",
        "\n",
        "with open('config.json', 'r') as az_creds:\n",
        "    data = az_creds.read()\n",
        "\n",
        "creds = json.loads(data)\n",
        "\n",
        "# Credentials to authenticate to the personalized Open AI model server\n",
        "\n",
        "client = AzureOpenAI(\n",
        "    azure_endpoint=creds[\"AZURE_OPENAI_ENDPOINT\"],\n",
        "    api_key=creds[\"AZURE_OPENAI_KEY\"],\n",
        "    api_version=creds[\"AZURE_OPENAI_APIVERSION\"]\n",
        ")\n",
        "\n",
        "# Deployment namre of the ChatCompletion endpoint\n",
        "CHATGPT_MODEL = creds[\"CHATGPT_MODEL\"]"
      ]
    },
    {
      "cell_type": "markdown",
      "metadata": {
        "id": "rgHTOzmt6h_a"
      },
      "source": [
        "### Testing ZERO-SHOT"
      ]
    },
    {
      "cell_type": "code",
      "execution_count": null,
      "metadata": {
        "colab": {
          "base_uri": "https://localhost:8080/"
        },
        "id": "cQf3WeQ66lOm",
        "outputId": "476466d2-db16-4312-8f62-24d075badf6b"
      },
      "outputs": [
        {
          "name": "stdout",
          "output_type": "stream",
          "text": [
            "1. \"The Ultimate Tug-of-War Challenge\": Set up a mini tug-of-war competition in the classroom, dividing the students into two teams. Before starting, ask the students to predict which team will win based on their strength. After a few rounds, explain that this activity demonstrates Newton's third law of motion, where the force exerted by one team is equal and opposite to the force exerted by the other team.\n",
            "\n",
            "2. \"Superhero Showdown\": Begin the lesson by showing a short video clip of a superhero movie where two characters collide or fight. Ask the students to identify the forces at play in the scene. Then, explain that Newton's third law of motion explains why the characters are pushed back or react to the force of impact. Encourage students to think about how this law applies to real-life situations.\n",
            "\n",
            "3. \"Egg Drop Challenge\": Challenge the students to design a contraption that will protect an egg from breaking when dropped from a height. Before starting, ask the students to brainstorm ideas and predict which designs will be successful. After the challenge, discuss how Newton's third law of motion relates to the egg's survival. Emphasize that the force of the egg hitting the ground is equal and opposite to the force exerted by the contraption, preventing the egg from breaking.\n",
            "\n",
            "4. \"Balloon Rockets\": Set up a race between two balloon-powered rockets made by the students. Before launching the rockets, ask the students to predict which rocket will go faster and why. After the race, explain that the rockets' movement is due to Newton's third law of motion. The air escaping from the balloon propels the rocket forward, while the force of the air pushing backward propels the balloon in the opposite direction.\n",
            "\n",
            "5. \"Human Bumper Cars\": Divide the students into pairs and give each pair a small, wheeled chair or scooter. In an open space, have the students push against each other and observe what happens. Ask them to explain why they move in opposite directions. Then, introduce Newton's third law of motion and discuss how the force exerted by one person is equal and opposite to the force exerted by the other person, causing them to move in opposite directions.\n",
            "\n"
          ]
        },
        {
          "data": {
            "text/plain": [
              "Choice(finish_reason='stop', index=0, logprobs=None, message=ChatCompletionMessage(content='1. \"The Ultimate Tug-of-War Challenge\": Set up a mini tug-of-war competition in the classroom, dividing the students into two teams. Before starting, ask the students to predict which team will win based on their strength. After a few rounds, explain that this activity demonstrates Newton\\'s third law of motion, where the force exerted by one team is equal and opposite to the force exerted by the other team.\\n\\n2. \"Superhero Showdown\": Begin the lesson by showing a short video clip of a superhero movie where two characters collide or fight. Ask the students to identify the forces at play in the scene. Then, explain that Newton\\'s third law of motion explains why the characters are pushed back or react to the force of impact. Encourage students to think about how this law applies to real-life situations.\\n\\n3. \"Egg Drop Challenge\": Challenge the students to design a contraption that will protect an egg from breaking when dropped from a height. Before starting, ask the students to brainstorm ideas and predict which designs will be successful. After the challenge, discuss how Newton\\'s third law of motion relates to the egg\\'s survival. Emphasize that the force of the egg hitting the ground is equal and opposite to the force exerted by the contraption, preventing the egg from breaking.\\n\\n4. \"Balloon Rockets\": Set up a race between two balloon-powered rockets made by the students. Before launching the rockets, ask the students to predict which rocket will go faster and why. After the race, explain that the rockets\\' movement is due to Newton\\'s third law of motion. The air escaping from the balloon propels the rocket forward, while the force of the air pushing backward propels the balloon in the opposite direction.\\n\\n5. \"Human Bumper Cars\": Divide the students into pairs and give each pair a small, wheeled chair or scooter. In an open space, have the students push against each other and observe what happens. Ask them to explain why they move in opposite directions. Then, introduce Newton\\'s third law of motion and discuss how the force exerted by one person is equal and opposite to the force exerted by the other person, causing them to move in opposite directions.', refusal=None, role='assistant', audio=None, function_call=None, tool_calls=None), content_filter_results={'hate': {'filtered': False, 'severity': 'safe'}, 'protected_material_code': {'filtered': False, 'detected': False}, 'protected_material_text': {'filtered': False, 'detected': False}, 'self_harm': {'filtered': False, 'severity': 'safe'}, 'sexual': {'filtered': False, 'severity': 'safe'}, 'violence': {'filtered': False, 'severity': 'safe'}})"
            ]
          },
          "execution_count": 23,
          "metadata": {},
          "output_type": "execute_result"
        }
      ],
      "source": [
        "zero_shot_prompt = \"\"\"Create a list of 3-5 engaging lesson hooks for a  lesson keeping in mind the grade of the students.\n",
        "The hooks should be designed to capture students' attention and interest at the start of the lesson.\n",
        "Consider the developmental needs and interests of students at this age when crafting the hooks.\"\"\"\n",
        "\n",
        "user_prompt = \"Create a lesson hook for a lesson on newton's third law of motion for grade 8 students\"\n",
        "\n",
        "messages = [\n",
        "    {\"role\": \"system\", \"content\": zero_shot_prompt},\n",
        "    {\"role\": \"user\", \"content\": user_prompt}\n",
        "]\n",
        "\n",
        "response = client.chat.completions.create(\n",
        "    model=CHATGPT_MODEL,\n",
        "    messages=messages,\n",
        "    max_tokens=4096,\n",
        "    n=2,# <- This will ask the model to present two choices for completion so that the teacher has many options to choose from\n",
        "    temperature=0\n",
        ")\n",
        "\n",
        "print(response.choices[0].message.content)\n",
        "print(\"\")\n",
        "\n",
        "response.choices[0]"
      ]
    },
    {
      "cell_type": "markdown",
      "metadata": {
        "id": "fcxOIkmH_PcH"
      },
      "source": [
        "### Testing FEW-SHOT"
      ]
    },
    {
      "cell_type": "code",
      "execution_count": null,
      "metadata": {
        "colab": {
          "base_uri": "https://localhost:8080/"
        },
        "id": "Bk2iOOel_UeC",
        "outputId": "35121631-0dc1-46ac-bb15-00e43dc1ee51"
      },
      "outputs": [
        {
          "name": "stdout",
          "output_type": "stream",
          "text": [
            "1. \"The Ultimate Tug of War\": Start the lesson by dividing the class into two teams and setting up a tug of war competition. Explain that this game represents the concept of Newton's third law - for every action, there is an equal and opposite reaction. As the students engage in the game, ask them to observe and discuss how the forces are balanced and how each team's actions cause a reaction from the other team.\n",
            "\n",
            "2. \"Egg Drop Challenge\": Begin the lesson by presenting a challenge to the students - they need to design a contraption that will protect an egg from breaking when dropped from a height. Explain that this challenge will help them understand Newton's third law of motion. Encourage them to think about the forces involved in the egg's fall and how they can design their contraption to counteract those forces and prevent the egg from breaking.\n",
            "\n",
            "3. \"Defying Gravity\": Begin the lesson by showing a video or performing a demonstration of a magician seemingly defying gravity. Ask the students to brainstorm and discuss how they think the trick is accomplished. Then, introduce Newton's third law of motion and explain how the magician is actually using the principles of this law to create the illusion of defying gravity. Engage the students in a discussion about how they can apply this law in their everyday lives.\n",
            "\n",
            "4. \"Action and Reaction: Balloon Rockets\": Set up a demonstration with a balloon rocket and a string. Inflate the balloon and attach it to the string, then let it go. As the balloon deflates, the escaping air propels the balloon rocket forward. Ask the students to observe and discuss what forces are at play and why the balloon rocket moves in the opposite direction of the escaping air. Relate this demonstration to Newton's third law, explaining that the action of the air forcing out of the balloon is causing an equal and opposite reaction that propels the rocket forward.\n",
            "\n",
            "5. \"Bouncing Balls\": Begin the lesson by distributing different types of balls to the students - a tennis ball, a basketball, and a golf ball, for example. Ask them to observe and compare how each ball bounces differently. Engage them in a discussion about the forces involved in the balls' bounces and relate it to Newton's third law. Explain that the ball's bounce is a result of the action and reaction forces between the ball and the surface it bounces on.\n"
          ]
        }
      ],
      "source": [
        "system_message = \"\"\"Create a list of 3-5 engaging lesson hooks for a  lesson keeping in mind the grade of the students.\n",
        "The hooks should be designed to capture students' attention and interest at the start of the lesson.\n",
        "Consider the developmental needs and interests of students at this age when crafting the hooks.\"\"\"\n",
        "\n",
        "user_prompt = \"Create a lesson hook for a lesson on newton's third law of motion for grade 8 students\"\n",
        "\n",
        "messsages = [\n",
        "    {\"role\": \"system\", \"content\": system_message},\n",
        "\n",
        "    {\"role\": \"user\", \"content\": \"Create a lesson hook on States of Matter for grade 5\"},\n",
        "    {\"role\": \"assistant\", \"content\": \"\"\"Bring in a few different objects (e.g., ice cube, piece of metal, balloon) and ask students to describe their properties.\n",
        "Then reveal that these objects are all made of the same basic building blocks - atoms and molecules - just in different states.\"\"\"},\n",
        "\n",
        "    {\"role\": \"user\", \"content\": \"Create a lesson hook on Multiplication for grade 3\"},\n",
        "    {\"role\": \"assistant\", \"content\": \"\"\"Tell a simple story about going to the store and buying multiple items of the same kind (e.g., 3 bags of apples with 4 apples in each bag).\n",
        "Have students act it out with manipulatives to discover multiplication.\"\"\"},\n",
        "\n",
        "    {\"role\": \"user\", \"content\": \"Create a lesson hook on civil war for grade 7\"},\n",
        "    {\"role\": \"assistant\", \"content\": \"\"\"Hook: Read contrasting first-hand accounts from soldiers on opposite sides of a major battle.\n",
        "Discuss how perspectives differ.\"\"\"},\n",
        "\n",
        "    {\"role\": \"user\", \"content\": \"Create a lesson hook on Photosynthesis for grade 7\"},\n",
        "    {\"role\": \"assistant\", \"content\": \"\"\"The Incredible Shrinking Student: Tell students to imagine they are shrinking down to the size of a molecule to take a journey inside a leaf.\n",
        "Use this to introduce the structures involved in photosynthesis.\"\"\"},\n",
        "\n",
        "    {\"role\": \"user\", \"content\": \"Create a lesson hook on Photosynthesis for grade 7\"},\n",
        "    {\"role\": \"assistant\", \"content\": \"\"\"Divide the class into teams, each representing a part of the photosynthesis process.\n",
        "Have them race to complete the process in the correct order.\"\"\"},\n",
        "\n",
        "    {\"role\": \"user\", \"content\": \"Create a lesson hook on Anantomy for grade 6\"},\n",
        "    {\"role\": \"assistant\", \"content\": \"\"\"\"Interview a Body Part\": Assign each student a specific body part or system.\n",
        "Have them create interview questions and then act out an interview with their assigned part, discussing its functions, challenges, and fun facts.\n",
        "\"\"\"},\n",
        "\n",
        "    {\"role\": \"user\", \"content\": \"Create a lesson hook on Ancient Civilizations for grade 7\"},\n",
        "    {\"role\": \"assistant\", \"content\": \"\"\"\"\"The Lost Civilization\": Students are archaeologists who have discovered a long-lost civilization.\n",
        "As they uncover artifacts and decipher ancient texts, they learn about the culture, achievements, and eventual decline of this mysterious society, inspiring a deep dive into ancient history.\n",
        "Question Hook: \"Why do some societies thrive while others collapse? Is it simply a matter of luck, or are there underlying patterns?\" This hook is ideal for a unit on the rise and fall of ancient civilizations.\n",
        "\"\"\"},\n",
        "    {\"role\": \"user\", \"content\": user_prompt}\n",
        "    ]\n",
        "\n",
        "\n",
        "response = client.chat.completions.create(\n",
        "    model=CHATGPT_MODEL,\n",
        "    messages=messages,\n",
        "    n=2,# <- This will ask the model to present two choices for completion\n",
        "    temperature=0.8\n",
        ")\n",
        "\n",
        "print(response.choices[0].message.content)"
      ]
    },
    {
      "cell_type": "markdown",
      "metadata": {
        "id": "1ofw8zwJAWjQ"
      },
      "source": [
        "#### Testing CHAIN OF THOUGHTS (COT)"
      ]
    },
    {
      "cell_type": "code",
      "execution_count": null,
      "metadata": {
        "colab": {
          "base_uri": "https://localhost:8080/"
        },
        "id": "RxiRzeymAevi",
        "outputId": "511537bb-1353-4cf2-c5a1-4c1623b8d4fb"
      },
      "outputs": [
        {
          "name": "stdout",
          "output_type": "stream",
          "text": [
            "Here are 10 examples illustrating Newton's Third Law of Motion, each paired with a brief explanation:\n",
            "\n",
            "1. **A Person Jumping Off a Diving Board**\n",
            "   - **Action:** The person pushes down on the diving board.\n",
            "   - **Reaction:** The diving board pushes the person upward with equal force, launching them into the air.\n",
            "\n",
            "2. **A Balloon Releasing Air**\n",
            "   - **Action:** Air rushes out of the balloon in one direction.\n",
            "   - **Reaction:** The balloon moves in the opposite direction as the air escapes, demonstrating the principle of thrust.\n",
            "\n",
            "3. **Rowing a Boat**\n",
            "   - **Action:** A rower pushes the water backwards with the oar.\n",
            "   - **Reaction:** The water pushes the oar (and thus the boat) forwards with an equal force, propelling the boat ahead.\n",
            "\n",
            "4. **Walking on the Ground**\n",
            "   - **Action:** A person pushes their foot backward against the ground.\n",
            "   - **Reaction:** The ground pushes the foot forward with an equal force, allowing the person to move forward.\n",
            "\n",
            "5. **A Rocket Launching**\n",
            "   - **Action:** The rocket engines expel gas downwards.\n",
            "   - **Reaction:** The expelled gas pushes the rocket upwards, allowing it to lift off into the sky.\n",
            "\n",
            "6. **A Horse Pulling a Cart**\n",
            "   - **Action:** The horse pulls on the harness attached to the cart.\n",
            "   - **Reaction:** The cart pulls back on the horse with an equal force, but the horse still moves the cart forward due to its greater power.\n",
            "\n",
            "7. **A Hammer Hitting a Nail**\n",
            "   - **Action:** The hammer exerts a force on the nail driving it into the wood.\n",
            "   - **Reaction:** The nail exerts an equal force back on the hammer, which can cause the hammer to vibrate or bounce.\n",
            "\n",
            "8. **A Person Sitting on a Chair**\n",
            "   - **Action:** The person exerts a downward force on the chair due to their weight.\n",
            "   - **Reaction:** The chair exerts an equal and opposite force upward, supporting the person.\n",
            "\n",
            "9. **A Fire Extinguisher**\n",
            "   - **Action:** The extinguisher expels foam or gas outwards when the lever is pressed.\n",
            "   - **Reaction:** The extinguisher itself is pushed backward as the foam is expelled, illustrating the action-reaction pair.\n",
            "\n",
            "10. **A Fish Swimming**\n",
            "    - **Action:** A fish pushes water backward with its fins.\n",
            "    - **Reaction:** The water pushes the fish forward, allowing it to swim efficiently through the water.\n",
            "\n",
            "These examples enhance students' understanding of Newton's Third Law by illustrating the action-reaction principle in various contexts, making it easier for them to grasp the concept and see its application in everyday life.\n"
          ]
        }
      ],
      "source": [
        "example_prompt = \"\"\"Write 10 examples for the following lesson material. Add a brief explanation of the example.\n",
        "The lesson material is:\n",
        "\n",
        "{material}\n",
        "\n",
        "\"\"\"\n",
        "\n",
        "user_input = \"\"\"\n",
        "**Lesson Material:**\n",
        "\n",
        "Title: Understanding Newton's Third Law: Action and Reaction\n",
        "\n",
        "**Objective:**\n",
        "By the end of this lesson, students will be able to:\n",
        "\n",
        "1. Define Newton's Third Law of Motion.\n",
        "2. Identify action and reaction force pairs in various scenarios.\n",
        "3. Explain real-life applications of Newton's Third Law.\n",
        "\n",
        "**Body:**\n",
        "\n",
        "**1. What is Newton's Third Law?**\n",
        "   - Explain that Newton's Third Law states: \"For every action, there is an equal and opposite reaction.\"\n",
        "   - Break down the meaning of this law: when one object exerts a force on a second object, the second object exerts a force of equal magnitude in the opposite direction on the first object.\n",
        "\n",
        "**2. Action and Reaction Pairs:**\n",
        "   - Provide examples and ask students to identify the action and reaction force pairs in each scenario. Examples could include:\n",
        "     - A person pushing against a wall.\n",
        "     - A ball bouncing off the ground.\n",
        "     - A swimmer pushing against the water.\n",
        "   - Encourage students to think about the forces involved and how they act on different objects.\n",
        "\n",
        "**3. Real-Life Applications:**\n",
        "   - Discuss real-life examples where Newton's Third Law is at play, such as:\n",
        "     - Rocket propulsion: The action force is the expulsion of gas from the rocket engines, and the reaction force is the resulting upward movement of the rocket.\n",
        "     - Walking: Each step involves pushing against the ground, which pushes back with an equal force, propelling the person forward.\n",
        "     - Driving a car: The tires push against the road, and the road pushes back, propelling the car forward.\n",
        "   - Encourage students to brainstorm other examples they encounter in daily life.\n",
        "\n",
        "\"\"\"\n",
        "\n",
        "response = client.chat.completions.create(\n",
        "    messages = [{\"role\": \"user\", \"content\": example_prompt.format(material = user_input)}],\n",
        "    model = CHATGPT_MODEL,\n",
        "    max_tokens=1000,\n",
        "    temperature=0.8\n",
        ")\n",
        "\n",
        "print(response.choices[0].message.content)"
      ]
    }
  ],
  "metadata": {
    "colab": {
      "provenance": []
    },
    "kernelspec": {
      "display_name": "myenv",
      "language": "python",
      "name": "python3"
    },
    "language_info": {
      "codemirror_mode": {
        "name": "ipython",
        "version": 3
      },
      "file_extension": ".py",
      "mimetype": "text/x-python",
      "name": "python",
      "nbconvert_exporter": "python",
      "pygments_lexer": "ipython3",
      "version": "3.10.16"
    }
  },
  "nbformat": 4,
  "nbformat_minor": 0
}
